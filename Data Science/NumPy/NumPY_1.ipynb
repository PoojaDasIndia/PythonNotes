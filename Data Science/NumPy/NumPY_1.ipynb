{
 "cells": [
  {
   "cell_type": "markdown",
   "id": "832421d4",
   "metadata": {},
   "source": [
    "# NumPy-Numerical Python"
   ]
  },
  {
   "cell_type": "markdown",
   "id": "d6659968",
   "metadata": {},
   "source": [
    "### **numpy is extremely popular Python module. It is haevily used in scientific computing**\n",
    "\n",
    "**numpy's most  useful faeture is `n dimentional arry` object (a.k.a ndarray**"
   ]
  },
  {
   "cell_type": "code",
   "execution_count": 1,
   "id": "0d86cdcb",
   "metadata": {},
   "outputs": [],
   "source": [
    "import numpy as np\n",
    "import time\n",
    "import sys"
   ]
  },
  {
   "cell_type": "code",
   "execution_count": 2,
   "id": "2f8f56de",
   "metadata": {},
   "outputs": [
    {
     "data": {
      "text/plain": [
       "array([1, 2, 5])"
      ]
     },
     "execution_count": 2,
     "metadata": {},
     "output_type": "execute_result"
    }
   ],
   "source": [
    "a=np.array([1,2,5])\n",
    "a"
   ]
  },
  {
   "cell_type": "markdown",
   "id": "869934a5",
   "metadata": {},
   "source": [
    "### 3 main benefit of numpy array over a python list,\n",
    "\n",
    "    1) Less memory\n",
    "    2) Fast\n",
    "    3) Convinient\n"
   ]
  },
  {
   "cell_type": "code",
   "execution_count": 3,
   "id": "be5e8cad",
   "metadata": {},
   "outputs": [
    {
     "name": "stdout",
     "output_type": "stream",
     "text": [
      "28000\n",
      "4000\n"
     ]
    }
   ],
   "source": [
    "l=range(1000)\n",
    "print(sys.getsizeof(1)*len(l))\n",
    "\n",
    "array=np.arange(1000)\n",
    "print(array.size*array.itemsize)\n"
   ]
  },
  {
   "cell_type": "code",
   "execution_count": 4,
   "id": "9d083704",
   "metadata": {},
   "outputs": [
    {
     "data": {
      "text/plain": [
       "1000"
      ]
     },
     "execution_count": 4,
     "metadata": {},
     "output_type": "execute_result"
    }
   ],
   "source": [
    "len(l)"
   ]
  },
  {
   "cell_type": "code",
   "execution_count": 5,
   "id": "86502f89",
   "metadata": {},
   "outputs": [
    {
     "data": {
      "text/plain": [
       "range(0, 1000)"
      ]
     },
     "execution_count": 5,
     "metadata": {},
     "output_type": "execute_result"
    }
   ],
   "source": [
    "l"
   ]
  },
  {
   "cell_type": "code",
   "execution_count": 6,
   "id": "9f70a3a4",
   "metadata": {},
   "outputs": [
    {
     "data": {
      "text/plain": [
       "4"
      ]
     },
     "execution_count": 6,
     "metadata": {},
     "output_type": "execute_result"
    }
   ],
   "source": [
    "array.itemsize"
   ]
  },
  {
   "cell_type": "code",
   "execution_count": 7,
   "id": "f439cdec",
   "metadata": {},
   "outputs": [
    {
     "data": {
      "text/plain": [
       "28"
      ]
     },
     "execution_count": 7,
     "metadata": {},
     "output_type": "execute_result"
    }
   ],
   "source": [
    "sys.getsizeof(1)"
   ]
  },
  {
   "cell_type": "code",
   "execution_count": 8,
   "id": "ff03f7a6",
   "metadata": {},
   "outputs": [
    {
     "name": "stdout",
     "output_type": "stream",
     "text": [
      "Python list took : 191.4815902709961\n",
      "Numpy  took : 18.945932388305664\n"
     ]
    }
   ],
   "source": [
    "l1=range(1000000)\n",
    "l2=range(1000000)\n",
    "\n",
    "\n",
    "a1=np.arange(1000000)\n",
    "a2=np.arange(1000000)\n",
    "\n",
    "#python list\n",
    "start=time.time()\n",
    "result=[(x+y) for x,y in zip(l1,l2)]\n",
    "print(\"Python list took :\", (time.time()-start)*1000)\n",
    "      \n",
    "#numpy array\n",
    "start=time.time()\n",
    "result=a1+a2\n",
    "print(\"Numpy  took :\", (time.time()-start)*1000)\n",
    "      "
   ]
  },
  {
   "cell_type": "code",
   "execution_count": 9,
   "id": "b4b76955",
   "metadata": {},
   "outputs": [
    {
     "name": "stdout",
     "output_type": "stream",
     "text": [
      "Wall time: 0 ns\n",
      "[1, 3, 5]\n"
     ]
    }
   ],
   "source": [
    "%time\n",
    "l=[1,2,3]\n",
    "l2=[1,2,3]\n",
    "k=[]\n",
    "for i in range(len(l)):\n",
    "    k.append(l[i]+l1[i])\n",
    "print(k)"
   ]
  },
  {
   "cell_type": "code",
   "execution_count": 10,
   "id": "87822dfb",
   "metadata": {},
   "outputs": [
    {
     "name": "stdout",
     "output_type": "stream",
     "text": [
      "Wall time: 1.03 ms\n"
     ]
    },
    {
     "data": {
      "text/plain": [
       "[1, 3, 5]"
      ]
     },
     "execution_count": 10,
     "metadata": {},
     "output_type": "execute_result"
    }
   ],
   "source": [
    "%time result=[(x+y) for x,y in zip(l,l1)]\n",
    "result"
   ]
  },
  {
   "cell_type": "markdown",
   "id": "4ddf62fc",
   "metadata": {},
   "source": [
    "## numpy : basic array operations"
   ]
  },
  {
   "cell_type": "code",
   "execution_count": 11,
   "id": "cdaee70a",
   "metadata": {},
   "outputs": [
    {
     "data": {
      "text/plain": [
       "5"
      ]
     },
     "execution_count": 11,
     "metadata": {},
     "output_type": "execute_result"
    }
   ],
   "source": [
    "a=np.array([5,8,6])\n",
    "a[0]"
   ]
  },
  {
   "cell_type": "code",
   "execution_count": 12,
   "id": "7b06ac91",
   "metadata": {},
   "outputs": [
    {
     "data": {
      "text/plain": [
       "8"
      ]
     },
     "execution_count": 12,
     "metadata": {},
     "output_type": "execute_result"
    }
   ],
   "source": [
    "a[1]"
   ]
  },
  {
   "cell_type": "code",
   "execution_count": 13,
   "id": "eeacfa60",
   "metadata": {},
   "outputs": [
    {
     "data": {
      "text/plain": [
       "6"
      ]
     },
     "execution_count": 13,
     "metadata": {},
     "output_type": "execute_result"
    }
   ],
   "source": [
    "a[2]"
   ]
  },
  {
   "cell_type": "code",
   "execution_count": 14,
   "id": "23c29902",
   "metadata": {},
   "outputs": [],
   "source": [
    "a=np.array([[1,2],[7,8],[5,6]])"
   ]
  },
  {
   "cell_type": "markdown",
   "id": "c29638c3",
   "metadata": {},
   "source": [
    "### *ndim use to see the dimension of array"
   ]
  },
  {
   "cell_type": "code",
   "execution_count": 15,
   "id": "b8c30915",
   "metadata": {},
   "outputs": [
    {
     "data": {
      "text/plain": [
       "2"
      ]
     },
     "execution_count": 15,
     "metadata": {},
     "output_type": "execute_result"
    }
   ],
   "source": [
    "a.ndim"
   ]
  },
  {
   "cell_type": "code",
   "execution_count": 16,
   "id": "6e39e23e",
   "metadata": {},
   "outputs": [
    {
     "data": {
      "text/plain": [
       "1"
      ]
     },
     "execution_count": 16,
     "metadata": {},
     "output_type": "execute_result"
    }
   ],
   "source": [
    "b=np.array([5,8,6])\n",
    "b.ndim"
   ]
  },
  {
   "cell_type": "markdown",
   "id": "4f347cf0",
   "metadata": {},
   "source": [
    "### *itemsize use to print the byte size like int have 4 byte float have 8\n",
    "\n",
    "### * dtype use to print type"
   ]
  },
  {
   "cell_type": "code",
   "execution_count": 17,
   "id": "ac7632bf",
   "metadata": {},
   "outputs": [
    {
     "data": {
      "text/plain": [
       "4"
      ]
     },
     "execution_count": 17,
     "metadata": {},
     "output_type": "execute_result"
    }
   ],
   "source": [
    "a.itemsize"
   ]
  },
  {
   "cell_type": "code",
   "execution_count": 18,
   "id": "d2ca28e9",
   "metadata": {},
   "outputs": [
    {
     "data": {
      "text/plain": [
       "dtype('int32')"
      ]
     },
     "execution_count": 18,
     "metadata": {},
     "output_type": "execute_result"
    }
   ],
   "source": [
    "a.dtype"
   ]
  },
  {
   "cell_type": "code",
   "execution_count": 19,
   "id": "c6e1459c",
   "metadata": {},
   "outputs": [],
   "source": [
    "a=np.array([[1,2],[7,8],[5,6]],dtype=np.float64)"
   ]
  },
  {
   "cell_type": "code",
   "execution_count": 20,
   "id": "268eb9b2",
   "metadata": {},
   "outputs": [
    {
     "data": {
      "text/plain": [
       "8"
      ]
     },
     "execution_count": 20,
     "metadata": {},
     "output_type": "execute_result"
    }
   ],
   "source": [
    "a.itemsize"
   ]
  },
  {
   "cell_type": "code",
   "execution_count": 21,
   "id": "c694c8cf",
   "metadata": {},
   "outputs": [
    {
     "data": {
      "text/plain": [
       "dtype('float64')"
      ]
     },
     "execution_count": 21,
     "metadata": {},
     "output_type": "execute_result"
    }
   ],
   "source": [
    "a.dtype"
   ]
  },
  {
   "cell_type": "markdown",
   "id": "4baee181",
   "metadata": {},
   "source": [
    "### Size -- total  no.  in array"
   ]
  },
  {
   "cell_type": "code",
   "execution_count": 22,
   "id": "d581c617",
   "metadata": {},
   "outputs": [
    {
     "data": {
      "text/plain": [
       "6"
      ]
     },
     "execution_count": 22,
     "metadata": {},
     "output_type": "execute_result"
    }
   ],
   "source": [
    "a.size"
   ]
  },
  {
   "cell_type": "code",
   "execution_count": 23,
   "id": "07088e92",
   "metadata": {},
   "outputs": [
    {
     "data": {
      "text/plain": [
       "array([[1., 2.],\n",
       "       [7., 8.],\n",
       "       [5., 6.]])"
      ]
     },
     "execution_count": 23,
     "metadata": {},
     "output_type": "execute_result"
    }
   ],
   "source": [
    "a"
   ]
  },
  {
   "cell_type": "markdown",
   "id": "b717751e",
   "metadata": {},
   "source": [
    "### shape (row , column)"
   ]
  },
  {
   "cell_type": "code",
   "execution_count": 24,
   "id": "8e1155e2",
   "metadata": {},
   "outputs": [
    {
     "data": {
      "text/plain": [
       "(3, 2)"
      ]
     },
     "execution_count": 24,
     "metadata": {},
     "output_type": "execute_result"
    }
   ],
   "source": [
    "a.shape"
   ]
  },
  {
   "cell_type": "markdown",
   "id": "79873a43",
   "metadata": {},
   "source": [
    " numpy such as array properties (ndim, shape, itemsize, size etc.), math operations (min, max, sqrt, std etc.) arange, reshape etc."
   ]
  },
  {
   "cell_type": "code",
   "execution_count": 25,
   "id": "762555ba",
   "metadata": {},
   "outputs": [],
   "source": [
    "a=np.array([[1,2],[7,8],[5,6]],dtype=complex)"
   ]
  },
  {
   "cell_type": "code",
   "execution_count": 26,
   "id": "915eea13",
   "metadata": {},
   "outputs": [
    {
     "data": {
      "text/plain": [
       "array([[1.+0.j, 2.+0.j],\n",
       "       [7.+0.j, 8.+0.j],\n",
       "       [5.+0.j, 6.+0.j]])"
      ]
     },
     "execution_count": 26,
     "metadata": {},
     "output_type": "execute_result"
    }
   ],
   "source": [
    "a"
   ]
  },
  {
   "cell_type": "code",
   "execution_count": 27,
   "id": "b4fe16a9",
   "metadata": {},
   "outputs": [],
   "source": [
    "a=np.array([[1,2],[7,8],[5,6]])"
   ]
  },
  {
   "cell_type": "markdown",
   "id": "83339adb",
   "metadata": {},
   "source": [
    "## np.zeros ((r x c)) use to create a nxn dim array with 0"
   ]
  },
  {
   "cell_type": "code",
   "execution_count": 28,
   "id": "950b19d7",
   "metadata": {},
   "outputs": [
    {
     "data": {
      "text/plain": [
       "array([[0., 0., 0., 0.],\n",
       "       [0., 0., 0., 0.],\n",
       "       [0., 0., 0., 0.]])"
      ]
     },
     "execution_count": 28,
     "metadata": {},
     "output_type": "execute_result"
    }
   ],
   "source": [
    "np.zeros((3,4))"
   ]
  },
  {
   "cell_type": "markdown",
   "id": "1f041dc6",
   "metadata": {},
   "source": [
    "## np.ones ((r x c)) use to create a nxn dim array with 1"
   ]
  },
  {
   "cell_type": "code",
   "execution_count": 29,
   "id": "fd94996d",
   "metadata": {},
   "outputs": [
    {
     "data": {
      "text/plain": [
       "array([[1., 1., 1., 1.],\n",
       "       [1., 1., 1., 1.],\n",
       "       [1., 1., 1., 1.]])"
      ]
     },
     "execution_count": 29,
     "metadata": {},
     "output_type": "execute_result"
    }
   ],
   "source": [
    "one=np.ones((3,4))\n",
    "one"
   ]
  },
  {
   "cell_type": "code",
   "execution_count": 30,
   "id": "62f2fc76",
   "metadata": {},
   "outputs": [
    {
     "data": {
      "text/plain": [
       "dtype('float64')"
      ]
     },
     "execution_count": 30,
     "metadata": {},
     "output_type": "execute_result"
    }
   ],
   "source": [
    "one.dtype"
   ]
  },
  {
   "cell_type": "markdown",
   "id": "213ce113",
   "metadata": {},
   "source": [
    "## range in numpy is np.arange(start,end,step)"
   ]
  },
  {
   "cell_type": "code",
   "execution_count": 31,
   "id": "5b69f5cd",
   "metadata": {},
   "outputs": [
    {
     "data": {
      "text/plain": [
       "range(0, 5)"
      ]
     },
     "execution_count": 31,
     "metadata": {},
     "output_type": "execute_result"
    }
   ],
   "source": [
    "l=range(5)\n",
    "l"
   ]
  },
  {
   "cell_type": "code",
   "execution_count": 32,
   "id": "74e84799",
   "metadata": {},
   "outputs": [
    {
     "data": {
      "text/plain": [
       "0"
      ]
     },
     "execution_count": 32,
     "metadata": {},
     "output_type": "execute_result"
    }
   ],
   "source": [
    "l[0]"
   ]
  },
  {
   "cell_type": "code",
   "execution_count": 33,
   "id": "711571e4",
   "metadata": {},
   "outputs": [
    {
     "data": {
      "text/plain": [
       "1"
      ]
     },
     "execution_count": 33,
     "metadata": {},
     "output_type": "execute_result"
    }
   ],
   "source": [
    "l[1]"
   ]
  },
  {
   "cell_type": "code",
   "execution_count": 34,
   "id": "bcffd7fe",
   "metadata": {},
   "outputs": [
    {
     "data": {
      "text/plain": [
       "array([0, 1, 2, 3, 4])"
      ]
     },
     "execution_count": 34,
     "metadata": {},
     "output_type": "execute_result"
    }
   ],
   "source": [
    "np.arange(5)"
   ]
  },
  {
   "cell_type": "code",
   "execution_count": 35,
   "id": "e2dd1685",
   "metadata": {},
   "outputs": [
    {
     "data": {
      "text/plain": [
       "array([1, 2, 3, 4])"
      ]
     },
     "execution_count": 35,
     "metadata": {},
     "output_type": "execute_result"
    }
   ],
   "source": [
    "np.arange(1,5)"
   ]
  },
  {
   "cell_type": "code",
   "execution_count": 36,
   "id": "38c05223",
   "metadata": {},
   "outputs": [
    {
     "data": {
      "text/plain": [
       "array([1, 3, 5, 7, 9])"
      ]
     },
     "execution_count": 36,
     "metadata": {},
     "output_type": "execute_result"
    }
   ],
   "source": [
    "np.arange(1,10,2)"
   ]
  },
  {
   "cell_type": "markdown",
   "id": "e216f058",
   "metadata": {},
   "source": [
    "### np.linspace(start, end, or between kitna num chahiye num=10)\n",
    "\n",
    "\n",
    "**used to generate num between**"
   ]
  },
  {
   "cell_type": "code",
   "execution_count": 37,
   "id": "bfe87477",
   "metadata": {},
   "outputs": [
    {
     "data": {
      "text/plain": [
       "array([1.        , 1.66666667, 2.33333333, 3.        , 3.66666667,\n",
       "       4.33333333, 5.        , 5.66666667, 6.33333333, 7.        ])"
      ]
     },
     "execution_count": 37,
     "metadata": {},
     "output_type": "execute_result"
    }
   ],
   "source": [
    "np.linspace(1,7,10)"
   ]
  },
  {
   "cell_type": "code",
   "execution_count": 38,
   "id": "e86725ed",
   "metadata": {},
   "outputs": [
    {
     "data": {
      "text/plain": [
       "array([1. , 2.5, 4. , 5.5, 7. ])"
      ]
     },
     "execution_count": 38,
     "metadata": {},
     "output_type": "execute_result"
    }
   ],
   "source": [
    "np.linspace(1,7,5)"
   ]
  },
  {
   "cell_type": "code",
   "execution_count": 39,
   "id": "0a3b30ce",
   "metadata": {},
   "outputs": [
    {
     "data": {
      "text/plain": [
       "array([1.        , 1.31578947, 1.63157895, 1.94736842, 2.26315789,\n",
       "       2.57894737, 2.89473684, 3.21052632, 3.52631579, 3.84210526,\n",
       "       4.15789474, 4.47368421, 4.78947368, 5.10526316, 5.42105263,\n",
       "       5.73684211, 6.05263158, 6.36842105, 6.68421053, 7.        ])"
      ]
     },
     "execution_count": 39,
     "metadata": {},
     "output_type": "execute_result"
    }
   ],
   "source": [
    "np.linspace(1,7,20)"
   ]
  },
  {
   "cell_type": "markdown",
   "id": "99f20ee6",
   "metadata": {},
   "source": [
    "# reshape(nxc) any dimension"
   ]
  },
  {
   "cell_type": "code",
   "execution_count": 40,
   "id": "76f43cb6",
   "metadata": {},
   "outputs": [
    {
     "data": {
      "text/plain": [
       "(3, 2)"
      ]
     },
     "execution_count": 40,
     "metadata": {},
     "output_type": "execute_result"
    }
   ],
   "source": [
    "a.shape"
   ]
  },
  {
   "cell_type": "code",
   "execution_count": 41,
   "id": "c2aa90a5",
   "metadata": {},
   "outputs": [
    {
     "data": {
      "text/plain": [
       "array([[1, 2],\n",
       "       [7, 8],\n",
       "       [5, 6]])"
      ]
     },
     "execution_count": 41,
     "metadata": {},
     "output_type": "execute_result"
    }
   ],
   "source": [
    "a"
   ]
  },
  {
   "cell_type": "code",
   "execution_count": 42,
   "id": "640f0b08",
   "metadata": {},
   "outputs": [
    {
     "data": {
      "text/plain": [
       "array([[1, 2, 7],\n",
       "       [8, 5, 6]])"
      ]
     },
     "execution_count": 42,
     "metadata": {},
     "output_type": "execute_result"
    }
   ],
   "source": [
    "a.reshape(2,3)"
   ]
  },
  {
   "cell_type": "code",
   "execution_count": 43,
   "id": "aee9cd4b",
   "metadata": {},
   "outputs": [
    {
     "data": {
      "text/plain": [
       "array([[1],\n",
       "       [2],\n",
       "       [7],\n",
       "       [8],\n",
       "       [5],\n",
       "       [6]])"
      ]
     },
     "execution_count": 43,
     "metadata": {},
     "output_type": "execute_result"
    }
   ],
   "source": [
    "a.reshape(6,1)"
   ]
  },
  {
   "cell_type": "code",
   "execution_count": 44,
   "id": "ff4eaf14",
   "metadata": {},
   "outputs": [
    {
     "ename": "ValueError",
     "evalue": "cannot reshape array of size 6 into shape (6,10)",
     "output_type": "error",
     "traceback": [
      "\u001b[1;31m---------------------------------------------------------------------------\u001b[0m",
      "\u001b[1;31mValueError\u001b[0m                                Traceback (most recent call last)",
      "\u001b[1;32m~\\AppData\\Local\\Temp/ipykernel_9812/1209914113.py\u001b[0m in \u001b[0;36m<module>\u001b[1;34m\u001b[0m\n\u001b[1;32m----> 1\u001b[1;33m \u001b[0ma\u001b[0m\u001b[1;33m.\u001b[0m\u001b[0mreshape\u001b[0m\u001b[1;33m(\u001b[0m\u001b[1;36m6\u001b[0m\u001b[1;33m,\u001b[0m\u001b[1;36m10\u001b[0m\u001b[1;33m)\u001b[0m\u001b[1;33m\u001b[0m\u001b[1;33m\u001b[0m\u001b[0m\n\u001b[0m",
      "\u001b[1;31mValueError\u001b[0m: cannot reshape array of size 6 into shape (6,10)"
     ]
    }
   ],
   "source": [
    "a.reshape(6,10)"
   ]
  },
  {
   "cell_type": "markdown",
   "id": "8cc76352",
   "metadata": {},
   "source": [
    "## ravel used to flaten a array (rxc) to n it give new array"
   ]
  },
  {
   "cell_type": "code",
   "execution_count": 45,
   "id": "fa9745df",
   "metadata": {},
   "outputs": [
    {
     "data": {
      "text/plain": [
       "array([1, 2, 7, 8, 5, 6])"
      ]
     },
     "execution_count": 45,
     "metadata": {},
     "output_type": "execute_result"
    }
   ],
   "source": [
    "a.ravel()"
   ]
  },
  {
   "cell_type": "code",
   "execution_count": 46,
   "id": "25e944fa",
   "metadata": {},
   "outputs": [
    {
     "data": {
      "text/plain": [
       "array([[1, 2],\n",
       "       [7, 8],\n",
       "       [5, 6]])"
      ]
     },
     "execution_count": 46,
     "metadata": {},
     "output_type": "execute_result"
    }
   ],
   "source": [
    "a"
   ]
  },
  {
   "cell_type": "markdown",
   "id": "a686d99d",
   "metadata": {},
   "source": [
    "# Mathametical function"
   ]
  },
  {
   "cell_type": "code",
   "execution_count": 47,
   "id": "f54537da",
   "metadata": {},
   "outputs": [
    {
     "data": {
      "text/plain": [
       "1"
      ]
     },
     "execution_count": 47,
     "metadata": {},
     "output_type": "execute_result"
    }
   ],
   "source": [
    "a.min()"
   ]
  },
  {
   "cell_type": "code",
   "execution_count": 48,
   "id": "3eefbc17",
   "metadata": {},
   "outputs": [
    {
     "data": {
      "text/plain": [
       "8"
      ]
     },
     "execution_count": 48,
     "metadata": {},
     "output_type": "execute_result"
    }
   ],
   "source": [
    "a.max()"
   ]
  },
  {
   "cell_type": "code",
   "execution_count": 49,
   "id": "8d37eb2f",
   "metadata": {},
   "outputs": [
    {
     "data": {
      "text/plain": [
       "29"
      ]
     },
     "execution_count": 49,
     "metadata": {},
     "output_type": "execute_result"
    }
   ],
   "source": [
    "a.sum()"
   ]
  },
  {
   "cell_type": "code",
   "execution_count": 50,
   "id": "75951d76",
   "metadata": {},
   "outputs": [
    {
     "data": {
      "text/plain": [
       "array([13, 16])"
      ]
     },
     "execution_count": 50,
     "metadata": {},
     "output_type": "execute_result"
    }
   ],
   "source": [
    "a.sum(axis=0)"
   ]
  },
  {
   "cell_type": "code",
   "execution_count": 51,
   "id": "998dd830",
   "metadata": {},
   "outputs": [
    {
     "data": {
      "text/plain": [
       "array([ 3, 15, 11])"
      ]
     },
     "execution_count": 51,
     "metadata": {},
     "output_type": "execute_result"
    }
   ],
   "source": [
    "a.sum(axis=1)"
   ]
  },
  {
   "cell_type": "code",
   "execution_count": 52,
   "id": "fb878f16",
   "metadata": {},
   "outputs": [
    {
     "data": {
      "text/plain": [
       "array([[1.        , 1.41421356],\n",
       "       [2.64575131, 2.82842712],\n",
       "       [2.23606798, 2.44948974]])"
      ]
     },
     "execution_count": 52,
     "metadata": {},
     "output_type": "execute_result"
    }
   ],
   "source": [
    "np.sqrt(a)"
   ]
  },
  {
   "cell_type": "code",
   "execution_count": 53,
   "id": "ebdb481d",
   "metadata": {},
   "outputs": [
    {
     "data": {
      "text/plain": [
       "array([[1, 2],\n",
       "       [7, 8],\n",
       "       [5, 6]])"
      ]
     },
     "execution_count": 53,
     "metadata": {},
     "output_type": "execute_result"
    }
   ],
   "source": [
    "a"
   ]
  },
  {
   "cell_type": "code",
   "execution_count": 54,
   "id": "1c2ffc3a",
   "metadata": {},
   "outputs": [
    {
     "data": {
      "text/plain": [
       "2.544056253745625"
      ]
     },
     "execution_count": 54,
     "metadata": {},
     "output_type": "execute_result"
    }
   ],
   "source": [
    "np.std(a)"
   ]
  },
  {
   "cell_type": "code",
   "execution_count": 55,
   "id": "b9526037",
   "metadata": {},
   "outputs": [],
   "source": [
    "a=np.array([[1,2],[3,4]])\n",
    "b=np.array([[5,6],[7,8]])"
   ]
  },
  {
   "cell_type": "code",
   "execution_count": 56,
   "id": "d90dfb7c",
   "metadata": {},
   "outputs": [
    {
     "data": {
      "text/plain": [
       "array([[1, 2],\n",
       "       [3, 4]])"
      ]
     },
     "execution_count": 56,
     "metadata": {},
     "output_type": "execute_result"
    }
   ],
   "source": [
    "a"
   ]
  },
  {
   "cell_type": "code",
   "execution_count": 57,
   "id": "370cffc4",
   "metadata": {},
   "outputs": [
    {
     "data": {
      "text/plain": [
       "array([[5, 6],\n",
       "       [7, 8]])"
      ]
     },
     "execution_count": 57,
     "metadata": {},
     "output_type": "execute_result"
    }
   ],
   "source": [
    "b"
   ]
  },
  {
   "cell_type": "code",
   "execution_count": 58,
   "id": "eaa9575c",
   "metadata": {},
   "outputs": [
    {
     "data": {
      "text/plain": [
       "array([[ 6,  8],\n",
       "       [10, 12]])"
      ]
     },
     "execution_count": 58,
     "metadata": {},
     "output_type": "execute_result"
    }
   ],
   "source": [
    "a+b"
   ]
  },
  {
   "cell_type": "code",
   "execution_count": 59,
   "id": "27c7b9d0",
   "metadata": {},
   "outputs": [
    {
     "data": {
      "text/plain": [
       "array([[ 5, 12],\n",
       "       [21, 32]])"
      ]
     },
     "execution_count": 59,
     "metadata": {},
     "output_type": "execute_result"
    }
   ],
   "source": [
    "a*b"
   ]
  },
  {
   "cell_type": "code",
   "execution_count": 60,
   "id": "588fd3bb",
   "metadata": {},
   "outputs": [
    {
     "data": {
      "text/plain": [
       "array([[-4, -4],\n",
       "       [-4, -4]])"
      ]
     },
     "execution_count": 60,
     "metadata": {},
     "output_type": "execute_result"
    }
   ],
   "source": [
    "a-b"
   ]
  },
  {
   "cell_type": "code",
   "execution_count": 61,
   "id": "c361e3f5",
   "metadata": {},
   "outputs": [
    {
     "data": {
      "text/plain": [
       "array([[0.2       , 0.33333333],\n",
       "       [0.42857143, 0.5       ]])"
      ]
     },
     "execution_count": 61,
     "metadata": {},
     "output_type": "execute_result"
    }
   ],
   "source": [
    "a/b"
   ]
  },
  {
   "cell_type": "code",
   "execution_count": 62,
   "id": "4958706f",
   "metadata": {},
   "outputs": [
    {
     "data": {
      "text/plain": [
       "array([[19, 22],\n",
       "       [43, 50]])"
      ]
     },
     "execution_count": 62,
     "metadata": {},
     "output_type": "execute_result"
    }
   ],
   "source": [
    "a.dot(b)"
   ]
  },
  {
   "cell_type": "markdown",
   "id": "f1084599",
   "metadata": {},
   "source": [
    "### numpy array operations such as slicing, indexing, stacking. We will also go over how to index one array with another boolean array.\n"
   ]
  },
  {
   "cell_type": "code",
   "execution_count": 63,
   "id": "939faac9",
   "metadata": {},
   "outputs": [],
   "source": [
    "n=[6,7,8]"
   ]
  },
  {
   "cell_type": "code",
   "execution_count": 64,
   "id": "092cf01a",
   "metadata": {},
   "outputs": [
    {
     "data": {
      "text/plain": [
       "[6, 7]"
      ]
     },
     "execution_count": 64,
     "metadata": {},
     "output_type": "execute_result"
    }
   ],
   "source": [
    "n[0:2]"
   ]
  },
  {
   "cell_type": "code",
   "execution_count": 65,
   "id": "60b9dfa1",
   "metadata": {},
   "outputs": [
    {
     "data": {
      "text/plain": [
       "8"
      ]
     },
     "execution_count": 65,
     "metadata": {},
     "output_type": "execute_result"
    }
   ],
   "source": [
    "n[-1]"
   ]
  },
  {
   "cell_type": "code",
   "execution_count": 66,
   "id": "b6c6ba37",
   "metadata": {},
   "outputs": [],
   "source": [
    "a=np.array([6,7,8])"
   ]
  },
  {
   "cell_type": "code",
   "execution_count": 67,
   "id": "f7e3df6a",
   "metadata": {},
   "outputs": [
    {
     "data": {
      "text/plain": [
       "array([6, 7])"
      ]
     },
     "execution_count": 67,
     "metadata": {},
     "output_type": "execute_result"
    }
   ],
   "source": [
    "a[0:2]"
   ]
  },
  {
   "cell_type": "code",
   "execution_count": 68,
   "id": "0c53a59c",
   "metadata": {},
   "outputs": [
    {
     "data": {
      "text/plain": [
       "8"
      ]
     },
     "execution_count": 68,
     "metadata": {},
     "output_type": "execute_result"
    }
   ],
   "source": [
    "a[-1]"
   ]
  },
  {
   "cell_type": "code",
   "execution_count": 77,
   "id": "b5c53584",
   "metadata": {},
   "outputs": [],
   "source": [
    "a=np.array([[1,2,8],[7,8,6],[5,6,3]])"
   ]
  },
  {
   "cell_type": "code",
   "execution_count": 78,
   "id": "0cbf6330",
   "metadata": {},
   "outputs": [
    {
     "data": {
      "text/plain": [
       "array([[1, 2, 8],\n",
       "       [7, 8, 6],\n",
       "       [5, 6, 3]])"
      ]
     },
     "execution_count": 78,
     "metadata": {},
     "output_type": "execute_result"
    }
   ],
   "source": [
    "a"
   ]
  },
  {
   "cell_type": "code",
   "execution_count": 80,
   "id": "d0636707",
   "metadata": {},
   "outputs": [
    {
     "data": {
      "text/plain": [
       "3"
      ]
     },
     "execution_count": 80,
     "metadata": {},
     "output_type": "execute_result"
    }
   ],
   "source": [
    "a[2,2]#  (r,c)"
   ]
  },
  {
   "cell_type": "code",
   "execution_count": 81,
   "id": "758cae5d",
   "metadata": {},
   "outputs": [
    {
     "data": {
      "text/plain": [
       "7"
      ]
     },
     "execution_count": 81,
     "metadata": {},
     "output_type": "execute_result"
    }
   ],
   "source": [
    "a[1,0]"
   ]
  },
  {
   "cell_type": "code",
   "execution_count": 82,
   "id": "ab21c691",
   "metadata": {},
   "outputs": [
    {
     "data": {
      "text/plain": [
       "array([7, 8])"
      ]
     },
     "execution_count": 82,
     "metadata": {},
     "output_type": "execute_result"
    }
   ],
   "source": [
    "a[1,0:2]"
   ]
  },
  {
   "cell_type": "code",
   "execution_count": 83,
   "id": "eb40e51d",
   "metadata": {},
   "outputs": [
    {
     "data": {
      "text/plain": [
       "array([7, 8])"
      ]
     },
     "execution_count": 83,
     "metadata": {},
     "output_type": "execute_result"
    }
   ],
   "source": [
    "a[1,0:-1]"
   ]
  },
  {
   "cell_type": "code",
   "execution_count": 84,
   "id": "d70d0d0f",
   "metadata": {},
   "outputs": [
    {
     "data": {
      "text/plain": [
       "array([7, 8, 6])"
      ]
     },
     "execution_count": 84,
     "metadata": {},
     "output_type": "execute_result"
    }
   ],
   "source": [
    "a[1,0:3]"
   ]
  },
  {
   "cell_type": "code",
   "execution_count": 85,
   "id": "0d2e8410",
   "metadata": {},
   "outputs": [
    {
     "data": {
      "text/plain": [
       "array([5, 6, 3])"
      ]
     },
     "execution_count": 85,
     "metadata": {},
     "output_type": "execute_result"
    }
   ],
   "source": [
    "a[-1]"
   ]
  },
  {
   "cell_type": "code",
   "execution_count": 86,
   "id": "2f85036c",
   "metadata": {},
   "outputs": [
    {
     "data": {
      "text/plain": [
       "array([1, 2, 8])"
      ]
     },
     "execution_count": 86,
     "metadata": {},
     "output_type": "execute_result"
    }
   ],
   "source": [
    "a[0]"
   ]
  },
  {
   "cell_type": "code",
   "execution_count": 87,
   "id": "a20e5dc7",
   "metadata": {},
   "outputs": [
    {
     "data": {
      "text/plain": [
       "array([7, 8, 6])"
      ]
     },
     "execution_count": 87,
     "metadata": {},
     "output_type": "execute_result"
    }
   ],
   "source": [
    "a[1]"
   ]
  },
  {
   "cell_type": "code",
   "execution_count": 95,
   "id": "0ea3b50c",
   "metadata": {},
   "outputs": [
    {
     "data": {
      "text/plain": [
       "6"
      ]
     },
     "execution_count": 95,
     "metadata": {},
     "output_type": "execute_result"
    }
   ],
   "source": [
    "a[2][1]"
   ]
  },
  {
   "cell_type": "code",
   "execution_count": 89,
   "id": "5d2b45b3",
   "metadata": {},
   "outputs": [
    {
     "data": {
      "text/plain": [
       "array([[1, 2, 8],\n",
       "       [7, 8, 6],\n",
       "       [5, 6, 3]])"
      ]
     },
     "execution_count": 89,
     "metadata": {},
     "output_type": "execute_result"
    }
   ],
   "source": [
    "a"
   ]
  },
  {
   "cell_type": "code",
   "execution_count": 98,
   "id": "2a256c8a",
   "metadata": {},
   "outputs": [
    {
     "data": {
      "text/plain": [
       "array([[2, 8],\n",
       "       [8, 6],\n",
       "       [6, 3]])"
      ]
     },
     "execution_count": 98,
     "metadata": {},
     "output_type": "execute_result"
    }
   ],
   "source": [
    "a[:,1:3]"
   ]
  },
  {
   "cell_type": "code",
   "execution_count": 99,
   "id": "e95a7a03",
   "metadata": {},
   "outputs": [
    {
     "data": {
      "text/plain": [
       "array([[1, 2, 8],\n",
       "       [7, 8, 6],\n",
       "       [5, 6, 3]])"
      ]
     },
     "execution_count": 99,
     "metadata": {},
     "output_type": "execute_result"
    }
   ],
   "source": [
    "a"
   ]
  },
  {
   "cell_type": "code",
   "execution_count": 102,
   "id": "035b123f",
   "metadata": {},
   "outputs": [
    {
     "name": "stdout",
     "output_type": "stream",
     "text": [
      "[1 2 8]\n",
      "[7 8 6]\n",
      "[5 6 3]\n"
     ]
    }
   ],
   "source": [
    "for i in a:\n",
    "    print(i)"
   ]
  },
  {
   "cell_type": "code",
   "execution_count": 103,
   "id": "46c19a57",
   "metadata": {},
   "outputs": [
    {
     "name": "stdout",
     "output_type": "stream",
     "text": [
      "1\n",
      "2\n",
      "8\n",
      "7\n",
      "8\n",
      "6\n",
      "5\n",
      "6\n",
      "3\n"
     ]
    }
   ],
   "source": [
    "for cell in a.flat:\n",
    "    print(cell)"
   ]
  },
  {
   "cell_type": "markdown",
   "id": "65afff99",
   "metadata": {},
   "source": [
    "# flat use to flat array"
   ]
  },
  {
   "cell_type": "code",
   "execution_count": 111,
   "id": "f02a460b",
   "metadata": {},
   "outputs": [
    {
     "data": {
      "text/plain": [
       "array([1, 2, 8, 7, 8, 6, 5, 6, 3])"
      ]
     },
     "execution_count": 111,
     "metadata": {},
     "output_type": "execute_result"
    }
   ],
   "source": [
    "a.flat[:]"
   ]
  },
  {
   "cell_type": "code",
   "execution_count": 115,
   "id": "2306901c",
   "metadata": {},
   "outputs": [
    {
     "data": {
      "text/plain": [
       "array([1, 2, 8, 7, 8, 6, 5, 6, 3])"
      ]
     },
     "execution_count": 115,
     "metadata": {},
     "output_type": "execute_result"
    }
   ],
   "source": [
    "a.ravel()"
   ]
  },
  {
   "cell_type": "code",
   "execution_count": 117,
   "id": "fea24764",
   "metadata": {},
   "outputs": [
    {
     "name": "stdout",
     "output_type": "stream",
     "text": [
      "1\n",
      "2\n",
      "8\n",
      "7\n",
      "8\n",
      "6\n",
      "5\n",
      "6\n",
      "3\n"
     ]
    }
   ],
   "source": [
    "for cell in a.ravel():\n",
    "    print(cell)"
   ]
  },
  {
   "cell_type": "markdown",
   "id": "c0be8f8b",
   "metadata": {},
   "source": [
    "## Full() used to fill the array"
   ]
  },
  {
   "cell_type": "code",
   "execution_count": 120,
   "id": "024794cd",
   "metadata": {},
   "outputs": [],
   "source": [
    "b=np.full((3,4),5)"
   ]
  },
  {
   "cell_type": "code",
   "execution_count": 121,
   "id": "7e950f34",
   "metadata": {},
   "outputs": [
    {
     "data": {
      "text/plain": [
       "array([[5, 5, 5, 5],\n",
       "       [5, 5, 5, 5],\n",
       "       [5, 5, 5, 5]])"
      ]
     },
     "execution_count": 121,
     "metadata": {},
     "output_type": "execute_result"
    }
   ],
   "source": [
    "b"
   ]
  },
  {
   "cell_type": "markdown",
   "id": "1660389e",
   "metadata": {},
   "source": [
    "# Joining Numpy Array"
   ]
  },
  {
   "cell_type": "code",
   "execution_count": 128,
   "id": "203f4e66",
   "metadata": {},
   "outputs": [],
   "source": [
    "a=np.arange(6).reshape(3,2)"
   ]
  },
  {
   "cell_type": "code",
   "execution_count": 129,
   "id": "180f94e1",
   "metadata": {},
   "outputs": [
    {
     "data": {
      "text/plain": [
       "array([[0, 1],\n",
       "       [2, 3],\n",
       "       [4, 5]])"
      ]
     },
     "execution_count": 129,
     "metadata": {},
     "output_type": "execute_result"
    }
   ],
   "source": [
    "a"
   ]
  },
  {
   "cell_type": "code",
   "execution_count": 130,
   "id": "d221fe61",
   "metadata": {},
   "outputs": [],
   "source": [
    "b=np.arange(6,12).reshape(3,2)"
   ]
  },
  {
   "cell_type": "code",
   "execution_count": 131,
   "id": "77790078",
   "metadata": {},
   "outputs": [
    {
     "data": {
      "text/plain": [
       "array([[ 6,  7],\n",
       "       [ 8,  9],\n",
       "       [10, 11]])"
      ]
     },
     "execution_count": 131,
     "metadata": {},
     "output_type": "execute_result"
    }
   ],
   "source": [
    "b"
   ]
  },
  {
   "cell_type": "markdown",
   "id": "1d1a8df8",
   "metadata": {},
   "source": [
    "## vstack()  vertical stack  ---row_stack both same"
   ]
  },
  {
   "cell_type": "code",
   "execution_count": 132,
   "id": "6e9422d5",
   "metadata": {},
   "outputs": [
    {
     "data": {
      "text/plain": [
       "array([[ 0,  1],\n",
       "       [ 2,  3],\n",
       "       [ 4,  5],\n",
       "       [ 6,  7],\n",
       "       [ 8,  9],\n",
       "       [10, 11]])"
      ]
     },
     "execution_count": 132,
     "metadata": {},
     "output_type": "execute_result"
    }
   ],
   "source": [
    "np.vstack((a,b))"
   ]
  },
  {
   "cell_type": "code",
   "execution_count": 135,
   "id": "4bae8235",
   "metadata": {},
   "outputs": [
    {
     "data": {
      "text/plain": [
       "array([[ 0,  1],\n",
       "       [ 2,  3],\n",
       "       [ 4,  5],\n",
       "       [ 6,  7],\n",
       "       [ 8,  9],\n",
       "       [10, 11]])"
      ]
     },
     "execution_count": 135,
     "metadata": {},
     "output_type": "execute_result"
    }
   ],
   "source": [
    "np.row_stack((a,b))"
   ]
  },
  {
   "cell_type": "markdown",
   "id": "14a1927e",
   "metadata": {},
   "source": [
    "## hstack()----column_stack both same"
   ]
  },
  {
   "cell_type": "code",
   "execution_count": 133,
   "id": "35b5e1eb",
   "metadata": {},
   "outputs": [
    {
     "data": {
      "text/plain": [
       "array([[ 0,  1,  6,  7],\n",
       "       [ 2,  3,  8,  9],\n",
       "       [ 4,  5, 10, 11]])"
      ]
     },
     "execution_count": 133,
     "metadata": {},
     "output_type": "execute_result"
    }
   ],
   "source": [
    "np.hstack((a,b))"
   ]
  },
  {
   "cell_type": "code",
   "execution_count": 134,
   "id": "b33a2272",
   "metadata": {},
   "outputs": [
    {
     "data": {
      "text/plain": [
       "array([[ 0,  1,  6,  7],\n",
       "       [ 2,  3,  8,  9],\n",
       "       [ 4,  5, 10, 11]])"
      ]
     },
     "execution_count": 134,
     "metadata": {},
     "output_type": "execute_result"
    }
   ],
   "source": [
    "np.column_stack((a,b))"
   ]
  },
  {
   "cell_type": "markdown",
   "id": "ded71224",
   "metadata": {},
   "source": [
    "# vsplit and hsplit split tha array"
   ]
  },
  {
   "cell_type": "code",
   "execution_count": 149,
   "id": "0f337b57",
   "metadata": {},
   "outputs": [],
   "source": [
    "a=np.arange(30).reshape(3,10)"
   ]
  },
  {
   "cell_type": "code",
   "execution_count": 150,
   "id": "0540901a",
   "metadata": {},
   "outputs": [
    {
     "data": {
      "text/plain": [
       "array([[ 0,  1,  2,  3,  4,  5,  6,  7,  8,  9],\n",
       "       [10, 11, 12, 13, 14, 15, 16, 17, 18, 19],\n",
       "       [20, 21, 22, 23, 24, 25, 26, 27, 28, 29]])"
      ]
     },
     "execution_count": 150,
     "metadata": {},
     "output_type": "execute_result"
    }
   ],
   "source": [
    "a"
   ]
  },
  {
   "cell_type": "code",
   "execution_count": 167,
   "id": "247797e3",
   "metadata": {},
   "outputs": [
    {
     "data": {
      "text/plain": [
       "[array([[ 0,  1,  2,  3,  4],\n",
       "        [10, 11, 12, 13, 14],\n",
       "        [20, 21, 22, 23, 24]]),\n",
       " array([[ 5,  6,  7,  8,  9],\n",
       "        [15, 16, 17, 18, 19],\n",
       "        [25, 26, 27, 28, 29]])]"
      ]
     },
     "execution_count": 167,
     "metadata": {},
     "output_type": "execute_result"
    }
   ],
   "source": [
    "np.hsplit(a,2)"
   ]
  },
  {
   "cell_type": "code",
   "execution_count": 165,
   "id": "09e164ee",
   "metadata": {},
   "outputs": [
    {
     "data": {
      "text/plain": [
       "[array([[0, 1, 2, 3, 4, 5, 6, 7, 8, 9]]),\n",
       " array([[10, 11, 12, 13, 14, 15, 16, 17, 18, 19]]),\n",
       " array([[20, 21, 22, 23, 24, 25, 26, 27, 28, 29]])]"
      ]
     },
     "execution_count": 165,
     "metadata": {},
     "output_type": "execute_result"
    }
   ],
   "source": [
    "np.vsplit(a,3)"
   ]
  },
  {
   "cell_type": "markdown",
   "id": "07db87b6",
   "metadata": {},
   "source": [
    "# indexing with boolean array"
   ]
  },
  {
   "cell_type": "code",
   "execution_count": 168,
   "id": "b9f4ce76",
   "metadata": {},
   "outputs": [],
   "source": [
    "a=np.arange(12).reshape(3,4)"
   ]
  },
  {
   "cell_type": "code",
   "execution_count": 169,
   "id": "68bce0ed",
   "metadata": {},
   "outputs": [
    {
     "data": {
      "text/plain": [
       "array([[ 0,  1,  2,  3],\n",
       "       [ 4,  5,  6,  7],\n",
       "       [ 8,  9, 10, 11]])"
      ]
     },
     "execution_count": 169,
     "metadata": {},
     "output_type": "execute_result"
    }
   ],
   "source": [
    "a"
   ]
  },
  {
   "cell_type": "code",
   "execution_count": 170,
   "id": "aa747aa2",
   "metadata": {},
   "outputs": [],
   "source": [
    "b=a>4"
   ]
  },
  {
   "cell_type": "code",
   "execution_count": 171,
   "id": "92c84423",
   "metadata": {},
   "outputs": [
    {
     "data": {
      "text/plain": [
       "array([[False, False, False, False],\n",
       "       [False,  True,  True,  True],\n",
       "       [ True,  True,  True,  True]])"
      ]
     },
     "execution_count": 171,
     "metadata": {},
     "output_type": "execute_result"
    }
   ],
   "source": [
    "b"
   ]
  },
  {
   "cell_type": "code",
   "execution_count": 172,
   "id": "6480b03e",
   "metadata": {},
   "outputs": [
    {
     "data": {
      "text/plain": [
       "array([ 5,  6,  7,  8,  9, 10, 11])"
      ]
     },
     "execution_count": 172,
     "metadata": {},
     "output_type": "execute_result"
    }
   ],
   "source": [
    "a[b]"
   ]
  },
  {
   "cell_type": "code",
   "execution_count": 173,
   "id": "7e4f6e9f",
   "metadata": {},
   "outputs": [],
   "source": [
    "a[b]=-1"
   ]
  },
  {
   "cell_type": "code",
   "execution_count": 174,
   "id": "231673e3",
   "metadata": {},
   "outputs": [
    {
     "data": {
      "text/plain": [
       "array([[ 0,  1,  2,  3],\n",
       "       [ 4, -1, -1, -1],\n",
       "       [-1, -1, -1, -1]])"
      ]
     },
     "execution_count": 174,
     "metadata": {},
     "output_type": "execute_result"
    }
   ],
   "source": [
    "a"
   ]
  },
  {
   "cell_type": "code",
   "execution_count": 175,
   "id": "1a0590c2",
   "metadata": {},
   "outputs": [],
   "source": [
    "b=a==-1"
   ]
  },
  {
   "cell_type": "code",
   "execution_count": 176,
   "id": "bcb72202",
   "metadata": {},
   "outputs": [
    {
     "data": {
      "text/plain": [
       "array([[False, False, False, False],\n",
       "       [False,  True,  True,  True],\n",
       "       [ True,  True,  True,  True]])"
      ]
     },
     "execution_count": 176,
     "metadata": {},
     "output_type": "execute_result"
    }
   ],
   "source": [
    "b"
   ]
  },
  {
   "cell_type": "markdown",
   "id": "b3f61348",
   "metadata": {},
   "source": [
    "# numpy's loadtxt and savetxt"
   ]
  },
  {
   "cell_type": "code",
   "execution_count": 178,
   "id": "856c84fb",
   "metadata": {},
   "outputs": [],
   "source": [
    "a=np.arange(15).reshape(3,5)"
   ]
  },
  {
   "cell_type": "code",
   "execution_count": 179,
   "id": "3e4fd58d",
   "metadata": {},
   "outputs": [
    {
     "data": {
      "text/plain": [
       "array([[ 0,  1,  2,  3,  4],\n",
       "       [ 5,  6,  7,  8,  9],\n",
       "       [10, 11, 12, 13, 14]])"
      ]
     },
     "execution_count": 179,
     "metadata": {},
     "output_type": "execute_result"
    }
   ],
   "source": [
    "a"
   ]
  },
  {
   "cell_type": "code",
   "execution_count": 180,
   "id": "a88333b6",
   "metadata": {},
   "outputs": [],
   "source": [
    "np.save(\"my_numpy\",a)"
   ]
  },
  {
   "cell_type": "code",
   "execution_count": 181,
   "id": "fbeb735e",
   "metadata": {},
   "outputs": [
    {
     "data": {
      "text/plain": [
       "array([[ 0,  1,  2,  3,  4],\n",
       "       [ 5,  6,  7,  8,  9],\n",
       "       [10, 11, 12, 13, 14]])"
      ]
     },
     "execution_count": 181,
     "metadata": {},
     "output_type": "execute_result"
    }
   ],
   "source": [
    "a"
   ]
  },
  {
   "cell_type": "code",
   "execution_count": 182,
   "id": "5e026ca5",
   "metadata": {},
   "outputs": [],
   "source": [
    "n2=np.load(\"my_numpy.npy\")"
   ]
  },
  {
   "cell_type": "code",
   "execution_count": 183,
   "id": "136b20b1",
   "metadata": {},
   "outputs": [
    {
     "data": {
      "text/plain": [
       "array([[ 0,  1,  2,  3,  4],\n",
       "       [ 5,  6,  7,  8,  9],\n",
       "       [10, 11, 12, 13, 14]])"
      ]
     },
     "execution_count": 183,
     "metadata": {},
     "output_type": "execute_result"
    }
   ],
   "source": [
    "n2"
   ]
  },
  {
   "cell_type": "code",
   "execution_count": 184,
   "id": "77f97dec",
   "metadata": {},
   "outputs": [],
   "source": [
    "np.savetxt(\"test.txt\",a)"
   ]
  },
  {
   "cell_type": "markdown",
   "id": "59aec42e",
   "metadata": {},
   "source": [
    "# Numpy Intersection & Difference"
   ]
  },
  {
   "cell_type": "code",
   "execution_count": 198,
   "id": "53745f7b",
   "metadata": {},
   "outputs": [],
   "source": [
    "n1=np.array([10,20,30,40,50])\n",
    "n2=np.array([40,50,60,70,80])"
   ]
  },
  {
   "cell_type": "code",
   "execution_count": 199,
   "id": "53ffed55",
   "metadata": {},
   "outputs": [
    {
     "data": {
      "text/plain": [
       "array([40, 50])"
      ]
     },
     "execution_count": 199,
     "metadata": {},
     "output_type": "execute_result"
    }
   ],
   "source": [
    "np.intersect1d(n1,n2)"
   ]
  },
  {
   "cell_type": "code",
   "execution_count": 200,
   "id": "7fe575d6",
   "metadata": {},
   "outputs": [
    {
     "data": {
      "text/plain": [
       "array([10, 20, 30])"
      ]
     },
     "execution_count": 200,
     "metadata": {},
     "output_type": "execute_result"
    }
   ],
   "source": [
    "np.setdiff1d(n1,n2)"
   ]
  },
  {
   "cell_type": "code",
   "execution_count": 201,
   "id": "3b046789",
   "metadata": {},
   "outputs": [
    {
     "data": {
      "text/plain": [
       "array([60, 70, 80])"
      ]
     },
     "execution_count": 201,
     "metadata": {},
     "output_type": "execute_result"
    }
   ],
   "source": [
    "np.setdiff1d(n2,n1)"
   ]
  },
  {
   "cell_type": "markdown",
   "id": "bc8b5abb",
   "metadata": {},
   "source": [
    "# Numpy Array Mathematic"
   ]
  },
  {
   "cell_type": "code",
   "execution_count": 202,
   "id": "640f7d41",
   "metadata": {},
   "outputs": [
    {
     "data": {
      "text/plain": [
       "array([ 50,  70,  90, 110, 130])"
      ]
     },
     "execution_count": 202,
     "metadata": {},
     "output_type": "execute_result"
    }
   ],
   "source": [
    "n1+n2"
   ]
  },
  {
   "cell_type": "code",
   "execution_count": 204,
   "id": "10562424",
   "metadata": {},
   "outputs": [
    {
     "data": {
      "text/plain": [
       "450"
      ]
     },
     "execution_count": 204,
     "metadata": {},
     "output_type": "execute_result"
    }
   ],
   "source": [
    "np.sum((n1,n2))"
   ]
  },
  {
   "cell_type": "code",
   "execution_count": 205,
   "id": "806b9fe2",
   "metadata": {},
   "outputs": [
    {
     "data": {
      "text/plain": [
       "array([ 50,  70,  90, 110, 130])"
      ]
     },
     "execution_count": 205,
     "metadata": {},
     "output_type": "execute_result"
    }
   ],
   "source": [
    "np.sum((n1,n2),axis=0)# 0= col"
   ]
  },
  {
   "cell_type": "code",
   "execution_count": 207,
   "id": "f802810c",
   "metadata": {},
   "outputs": [
    {
     "data": {
      "text/plain": [
       "array([150, 300])"
      ]
     },
     "execution_count": 207,
     "metadata": {},
     "output_type": "execute_result"
    }
   ],
   "source": [
    "np.sum((n1,n2),axis=1)# 1= row"
   ]
  },
  {
   "cell_type": "code",
   "execution_count": 210,
   "id": "26742ac0",
   "metadata": {},
   "outputs": [
    {
     "data": {
      "text/plain": [
       "array([-30, -30, -30, -30, -30])"
      ]
     },
     "execution_count": 210,
     "metadata": {},
     "output_type": "execute_result"
    }
   ],
   "source": [
    "np.subtract(n1,n2)"
   ]
  },
  {
   "cell_type": "code",
   "execution_count": 211,
   "id": "d56cfaec",
   "metadata": {},
   "outputs": [
    {
     "data": {
      "text/plain": [
       "array([ 20,  40,  60,  80, 100])"
      ]
     },
     "execution_count": 211,
     "metadata": {},
     "output_type": "execute_result"
    }
   ],
   "source": [
    "n1*2"
   ]
  },
  {
   "cell_type": "code",
   "execution_count": 212,
   "id": "47b1e561",
   "metadata": {},
   "outputs": [
    {
     "data": {
      "text/plain": [
       "array([12, 22, 32, 42, 52])"
      ]
     },
     "execution_count": 212,
     "metadata": {},
     "output_type": "execute_result"
    }
   ],
   "source": [
    "n1+2"
   ]
  },
  {
   "cell_type": "code",
   "execution_count": 213,
   "id": "4c2afb41",
   "metadata": {},
   "outputs": [
    {
     "data": {
      "text/plain": [
       "array([ 8, 18, 28, 38, 48])"
      ]
     },
     "execution_count": 213,
     "metadata": {},
     "output_type": "execute_result"
    }
   ],
   "source": [
    "n1-2"
   ]
  },
  {
   "cell_type": "code",
   "execution_count": 214,
   "id": "e39bcc49",
   "metadata": {},
   "outputs": [
    {
     "data": {
      "text/plain": [
       "array([ 5., 10., 15., 20., 25.])"
      ]
     },
     "execution_count": 214,
     "metadata": {},
     "output_type": "execute_result"
    }
   ],
   "source": [
    "n1/2"
   ]
  },
  {
   "cell_type": "code",
   "execution_count": 216,
   "id": "15baeb0f",
   "metadata": {},
   "outputs": [
    {
     "data": {
      "text/plain": [
       "30.0"
      ]
     },
     "execution_count": 216,
     "metadata": {},
     "output_type": "execute_result"
    }
   ],
   "source": [
    "np.mean(n1)"
   ]
  },
  {
   "cell_type": "code",
   "execution_count": 218,
   "id": "a0b2b479",
   "metadata": {},
   "outputs": [
    {
     "data": {
      "text/plain": [
       "60.0"
      ]
     },
     "execution_count": 218,
     "metadata": {},
     "output_type": "execute_result"
    }
   ],
   "source": [
    "np.median(n2)"
   ]
  },
  {
   "cell_type": "code",
   "execution_count": 229,
   "id": "9b1d7b76",
   "metadata": {},
   "outputs": [],
   "source": [
    "a=np.arange(12).reshape(3,4)"
   ]
  },
  {
   "cell_type": "code",
   "execution_count": 233,
   "id": "9bc4f2c8",
   "metadata": {},
   "outputs": [],
   "source": [
    "b=a<6"
   ]
  },
  {
   "cell_type": "code",
   "execution_count": 234,
   "id": "08e0779f",
   "metadata": {},
   "outputs": [
    {
     "data": {
      "text/plain": [
       "array([0, 1, 2, 3, 4, 5])"
      ]
     },
     "execution_count": 234,
     "metadata": {},
     "output_type": "execute_result"
    }
   ],
   "source": [
    "a[b]"
   ]
  },
  {
   "cell_type": "code",
   "execution_count": 235,
   "id": "11c6d93e",
   "metadata": {},
   "outputs": [
    {
     "data": {
      "text/plain": [
       "array([[ True,  True,  True,  True],\n",
       "       [ True,  True, False, False],\n",
       "       [False, False, False, False]])"
      ]
     },
     "execution_count": 235,
     "metadata": {},
     "output_type": "execute_result"
    }
   ],
   "source": [
    "b"
   ]
  },
  {
   "cell_type": "code",
   "execution_count": 237,
   "id": "ae82d70b",
   "metadata": {},
   "outputs": [],
   "source": [
    "a[b]=6"
   ]
  },
  {
   "cell_type": "code",
   "execution_count": 238,
   "id": "6f4120ec",
   "metadata": {},
   "outputs": [
    {
     "data": {
      "text/plain": [
       "array([[ 6,  6,  6,  6],\n",
       "       [ 6,  6,  6,  7],\n",
       "       [ 8,  9, 10, 11]])"
      ]
     },
     "execution_count": 238,
     "metadata": {},
     "output_type": "execute_result"
    }
   ],
   "source": [
    "a"
   ]
  },
  {
   "cell_type": "code",
   "execution_count": 243,
   "id": "c7604fa8",
   "metadata": {},
   "outputs": [
    {
     "ename": "AttributeError",
     "evalue": "'numpy.ndarray' object has no attribute 'mode'",
     "output_type": "error",
     "traceback": [
      "\u001b[1;31m---------------------------------------------------------------------------\u001b[0m",
      "\u001b[1;31mAttributeError\u001b[0m                            Traceback (most recent call last)",
      "\u001b[1;32m~\\AppData\\Local\\Temp/ipykernel_9812/1334713749.py\u001b[0m in \u001b[0;36m<module>\u001b[1;34m\u001b[0m\n\u001b[1;32m----> 1\u001b[1;33m \u001b[0ma\u001b[0m\u001b[1;33m.\u001b[0m\u001b[0mmode\u001b[0m\u001b[1;33m(\u001b[0m\u001b[1;33m)\u001b[0m\u001b[1;33m\u001b[0m\u001b[1;33m\u001b[0m\u001b[0m\n\u001b[0m",
      "\u001b[1;31mAttributeError\u001b[0m: 'numpy.ndarray' object has no attribute 'mode'"
     ]
    }
   ],
   "source": [
    "a.mode()   # scipy mai hai numpy "
   ]
  },
  {
   "cell_type": "code",
   "execution_count": 245,
   "id": "275ac61e",
   "metadata": {},
   "outputs": [
    {
     "data": {
      "text/plain": [
       "array([ 6,  7,  8,  9, 10, 11])"
      ]
     },
     "execution_count": 245,
     "metadata": {},
     "output_type": "execute_result"
    }
   ],
   "source": [
    "np.unique(a)"
   ]
  },
  {
   "cell_type": "markdown",
   "id": "fb401039",
   "metadata": {},
   "source": [
    "# iterate numpy array using nditer "
   ]
  },
  {
   "cell_type": "code",
   "execution_count": 4,
   "id": "264c49cf",
   "metadata": {},
   "outputs": [],
   "source": [
    "\n",
    "a=np.arange(12).reshape(3,4)"
   ]
  },
  {
   "cell_type": "code",
   "execution_count": 5,
   "id": "5b211022",
   "metadata": {},
   "outputs": [
    {
     "data": {
      "text/plain": [
       "array([[ 0,  1,  2,  3],\n",
       "       [ 4,  5,  6,  7],\n",
       "       [ 8,  9, 10, 11]])"
      ]
     },
     "execution_count": 5,
     "metadata": {},
     "output_type": "execute_result"
    }
   ],
   "source": [
    "a"
   ]
  },
  {
   "cell_type": "code",
   "execution_count": 6,
   "id": "c5afb8e9",
   "metadata": {},
   "outputs": [
    {
     "name": "stdout",
     "output_type": "stream",
     "text": [
      "[0 1 2 3]\n",
      "[4 5 6 7]\n",
      "[ 8  9 10 11]\n"
     ]
    }
   ],
   "source": [
    "for i in a:\n",
    "    print(i)"
   ]
  },
  {
   "cell_type": "code",
   "execution_count": 7,
   "id": "88dc7d58",
   "metadata": {},
   "outputs": [
    {
     "name": "stdout",
     "output_type": "stream",
     "text": [
      "0\n",
      "1\n",
      "2\n",
      "3\n",
      "4\n",
      "5\n",
      "6\n",
      "7\n",
      "8\n",
      "9\n",
      "10\n",
      "11\n"
     ]
    }
   ],
   "source": [
    "for i in a:\n",
    "    for j in i:\n",
    "        print(j)"
   ]
  },
  {
   "cell_type": "code",
   "execution_count": 8,
   "id": "f06d8435",
   "metadata": {},
   "outputs": [
    {
     "name": "stdout",
     "output_type": "stream",
     "text": [
      "0\n",
      "1\n",
      "2\n",
      "3\n",
      "4\n",
      "5\n",
      "6\n",
      "7\n",
      "8\n",
      "9\n",
      "10\n",
      "11\n"
     ]
    }
   ],
   "source": [
    "for i in a.flat:\n",
    "    print(i)"
   ]
  },
  {
   "cell_type": "code",
   "execution_count": 10,
   "id": "6f3dc58b",
   "metadata": {},
   "outputs": [
    {
     "name": "stdout",
     "output_type": "stream",
     "text": [
      "0\n",
      "1\n",
      "2\n",
      "3\n",
      "4\n",
      "5\n",
      "6\n",
      "7\n",
      "8\n",
      "9\n",
      "10\n",
      "11\n"
     ]
    }
   ],
   "source": [
    "for i in a.flatten():\n",
    "    print(i)\n"
   ]
  },
  {
   "cell_type": "code",
   "execution_count": 12,
   "id": "d1aa6026",
   "metadata": {},
   "outputs": [
    {
     "name": "stdout",
     "output_type": "stream",
     "text": [
      "0\n",
      "1\n",
      "2\n",
      "3\n",
      "4\n",
      "5\n",
      "6\n",
      "7\n",
      "8\n",
      "9\n",
      "10\n",
      "11\n"
     ]
    }
   ],
   "source": [
    "for i in np.nditer(a,order=\"C\"):\n",
    "    print(i)"
   ]
  },
  {
   "cell_type": "code",
   "execution_count": 13,
   "id": "fabd31c7",
   "metadata": {},
   "outputs": [
    {
     "name": "stdout",
     "output_type": "stream",
     "text": [
      "0\n",
      "4\n",
      "8\n",
      "1\n",
      "5\n",
      "9\n",
      "2\n",
      "6\n",
      "10\n",
      "3\n",
      "7\n",
      "11\n"
     ]
    }
   ],
   "source": [
    "for i in np.nditer(a,order=\"F\"):\n",
    "    print(i)"
   ]
  },
  {
   "cell_type": "markdown",
   "id": "d33cef8e",
   "metadata": {},
   "source": [
    "# take_along_axis(x,y,1)"
   ]
  },
  {
   "cell_type": "code",
   "execution_count": 14,
   "id": "fd2311af",
   "metadata": {},
   "outputs": [
    {
     "data": {
      "text/plain": [
       "array([[ 0,  1,  2,  3,  4],\n",
       "       [ 5,  6,  7,  8,  9],\n",
       "       [10, 11, 12, 13, 14],\n",
       "       [15, 16, 17, 18, 19],\n",
       "       [20, 21, 22, 23, 24]])"
      ]
     },
     "execution_count": 14,
     "metadata": {},
     "output_type": "execute_result"
    }
   ],
   "source": [
    "x=np.arange(25).reshape(5,5)\n",
    "x"
   ]
  },
  {
   "cell_type": "code",
   "execution_count": 17,
   "id": "d39d1f43",
   "metadata": {},
   "outputs": [],
   "source": [
    "x=x*2.1"
   ]
  },
  {
   "cell_type": "code",
   "execution_count": 18,
   "id": "63d0382c",
   "metadata": {},
   "outputs": [
    {
     "data": {
      "text/plain": [
       "array([[ 0. ,  2.1,  4.2,  6.3,  8.4],\n",
       "       [10.5, 12.6, 14.7, 16.8, 18.9],\n",
       "       [21. , 23.1, 25.2, 27.3, 29.4],\n",
       "       [31.5, 33.6, 35.7, 37.8, 39.9],\n",
       "       [42. , 44.1, 46.2, 48.3, 50.4]])"
      ]
     },
     "execution_count": 18,
     "metadata": {},
     "output_type": "execute_result"
    }
   ],
   "source": [
    "x"
   ]
  },
  {
   "cell_type": "code",
   "execution_count": 19,
   "id": "facd8392",
   "metadata": {},
   "outputs": [],
   "source": [
    "y=np.array([[3,0,1,2,4],\n",
    "            [4,0,1,3,2],\n",
    "            [2,0,4,3,1],\n",
    "            [3,4,2,0,1],\n",
    "            [4,3,2,0,1]])"
   ]
  },
  {
   "cell_type": "code",
   "execution_count": 20,
   "id": "1d55bec1",
   "metadata": {},
   "outputs": [
    {
     "data": {
      "text/plain": [
       "array([[3, 0, 1, 2, 4],\n",
       "       [4, 0, 1, 3, 2],\n",
       "       [2, 0, 4, 3, 1],\n",
       "       [3, 4, 2, 0, 1],\n",
       "       [4, 3, 2, 0, 1]])"
      ]
     },
     "execution_count": 20,
     "metadata": {},
     "output_type": "execute_result"
    }
   ],
   "source": [
    "y"
   ]
  },
  {
   "cell_type": "code",
   "execution_count": 21,
   "id": "5993585f",
   "metadata": {},
   "outputs": [
    {
     "data": {
      "text/plain": [
       "array([[ 6.3,  0. ,  2.1,  4.2,  8.4],\n",
       "       [18.9, 10.5, 12.6, 16.8, 14.7],\n",
       "       [25.2, 21. , 29.4, 27.3, 23.1],\n",
       "       [37.8, 39.9, 35.7, 31.5, 33.6],\n",
       "       [50.4, 48.3, 46.2, 42. , 44.1]])"
      ]
     },
     "execution_count": 21,
     "metadata": {},
     "output_type": "execute_result"
    }
   ],
   "source": [
    "np.take_along_axis(x,y,1)"
   ]
  },
  {
   "cell_type": "code",
   "execution_count": 28,
   "id": "826ae071",
   "metadata": {},
   "outputs": [
    {
     "data": {
      "text/plain": [
       "5"
      ]
     },
     "execution_count": 28,
     "metadata": {},
     "output_type": "execute_result"
    }
   ],
   "source": [
    "x.shape[0]"
   ]
  },
  {
   "cell_type": "code",
   "execution_count": 25,
   "id": "6a56fc76",
   "metadata": {},
   "outputs": [
    {
     "data": {
      "text/plain": [
       "array([[0],\n",
       "       [1],\n",
       "       [2],\n",
       "       [3],\n",
       "       [4]])"
      ]
     },
     "execution_count": 25,
     "metadata": {},
     "output_type": "execute_result"
    }
   ],
   "source": [
    "np.arange(x.shape[0])[:,None]"
   ]
  },
  {
   "cell_type": "code",
   "execution_count": 35,
   "id": "f7908d46",
   "metadata": {},
   "outputs": [
    {
     "data": {
      "text/plain": [
       "array([[ 0. ],\n",
       "       [10.5],\n",
       "       [21. ],\n",
       "       [31.5],\n",
       "       [42. ]])"
      ]
     },
     "execution_count": 35,
     "metadata": {},
     "output_type": "execute_result"
    }
   ],
   "source": [
    "x[np.arange(x.shape[0])[:,None],0]"
   ]
  },
  {
   "cell_type": "code",
   "execution_count": 32,
   "id": "b6f72607",
   "metadata": {},
   "outputs": [
    {
     "data": {
      "text/plain": [
       "array([[ 6.3,  0. ,  2.1,  4.2,  8.4],\n",
       "       [18.9, 10.5, 12.6, 16.8, 14.7],\n",
       "       [25.2, 21. , 29.4, 27.3, 23.1],\n",
       "       [37.8, 39.9, 35.7, 31.5, 33.6],\n",
       "       [50.4, 48.3, 46.2, 42. , 44.1]])"
      ]
     },
     "execution_count": 32,
     "metadata": {},
     "output_type": "execute_result"
    }
   ],
   "source": [
    "x[np.arange(x.shape[0])[:,None],y]"
   ]
  },
  {
   "cell_type": "code",
   "execution_count": 38,
   "metadata": {},
   "outputs": [],
   "source": [
    "b=np.empty((0,3),int)"
   ]
  },
  {
   "cell_type": "code",
   "execution_count": 39,
   "id": "27e2a131",
   "metadata": {},
   "outputs": [
    {
     "data": {
      "text/plain": [
       "array([[4, 8, 6]])"
      ]
     },
     "execution_count": 39,
     "metadata": {},
     "output_type": "execute_result"
    }
   ],
   "source": [
    "np.append(b,np.array([[4,8,6]]),axis=0)"
   ]
  },
  {
   "cell_type": "code",
   "execution_count": 40,
   "id": "b22739c2",
   "metadata": {},
   "outputs": [
    {
     "data": {
      "text/plain": [
       "array([[ 0,  1,  2,  3],\n",
       "       [ 4,  5,  6,  7],\n",
       "       [ 8,  9, 10, 11]])"
      ]
     },
     "execution_count": 40,
     "metadata": {},
     "output_type": "execute_result"
    }
   ],
   "source": [
    "a"
   ]
  },
  {
   "cell_type": "code",
   "execution_count": 46,
   "id": "08e69bcf",
   "metadata": {},
   "outputs": [
    {
     "data": {
      "text/plain": [
       "[array([[0, 1, 2, 3],\n",
       "        [4, 5, 6, 7]]),\n",
       " array([[ 8,  9, 10, 11]]),\n",
       " array([], shape=(0, 4), dtype=int32)]"
      ]
     },
     "execution_count": 46,
     "metadata": {},
     "output_type": "execute_result"
    }
   ],
   "source": [
    "np.split(a,(2,5))"
   ]
  },
  {
   "cell_type": "code",
   "execution_count": 47,
   "id": "305cd599",
   "metadata": {},
   "outputs": [
    {
     "data": {
      "text/plain": [
       "(array([1, 2, 2, 2, 2], dtype=int64), array([3, 0, 1, 2, 3], dtype=int64))"
      ]
     },
     "execution_count": 47,
     "metadata": {},
     "output_type": "execute_result"
    }
   ],
   "source": [
    "np.where(a>6)"
   ]
  },
  {
   "cell_type": "code",
   "execution_count": 51,
   "id": "29854e4a",
   "metadata": {},
   "outputs": [],
   "source": [
    "a=np.arange(20)"
   ]
  },
  {
   "cell_type": "code",
   "execution_count": 52,
   "id": "d1646e96",
   "metadata": {},
   "outputs": [
    {
     "data": {
      "text/plain": [
       "array([ 0,  1,  2,  3,  4,  5,  6,  7,  8,  9, 10, 11, 12, 13, 14, 15, 16,\n",
       "       17, 18, 19])"
      ]
     },
     "execution_count": 52,
     "metadata": {},
     "output_type": "execute_result"
    }
   ],
   "source": [
    "a"
   ]
  },
  {
   "cell_type": "code",
   "execution_count": 53,
   "id": "7089efe8",
   "metadata": {},
   "outputs": [
    {
     "data": {
      "text/plain": [
       "(array([ 7,  8,  9, 10, 11, 12, 13, 14, 15, 16, 17, 18, 19], dtype=int64),)"
      ]
     },
     "execution_count": 53,
     "metadata": {},
     "output_type": "execute_result"
    }
   ],
   "source": [
    "np.where(a>6)"
   ]
  },
  {
   "cell_type": "code",
   "execution_count": 54,
   "id": "fd3c827d",
   "metadata": {},
   "outputs": [
    {
     "data": {
      "text/plain": [
       "array(['B', 'B', 'B', 'B', 'B', 'B', 'B', 'A', 'A', 'A', 'A', 'A', 'A',\n",
       "       'A', 'A', 'A', 'A', 'A', 'A', 'A'], dtype='<U1')"
      ]
     },
     "execution_count": 54,
     "metadata": {},
     "output_type": "execute_result"
    }
   ],
   "source": [
    "np.where(a>6,\"A\",\"B\")"
   ]
  },
  {
   "cell_type": "code",
   "execution_count": 55,
   "id": "dd52fbf9",
   "metadata": {},
   "outputs": [
    {
     "data": {
      "text/plain": [
       "array([ 0,  1,  2,  3,  4,  5,  6,  7,  9, 10, 11, 12, 13, 14, 15, 16, 17,\n",
       "       18, 19])"
      ]
     },
     "execution_count": 55,
     "metadata": {},
     "output_type": "execute_result"
    }
   ],
   "source": [
    "np.delete(a,8)"
   ]
  },
  {
   "cell_type": "code",
   "execution_count": 56,
   "id": "557d7d5b",
   "metadata": {},
   "outputs": [
    {
     "data": {
      "text/plain": [
       "array([ 0,  1,  3,  5,  9, 10, 11, 12, 13, 14, 15, 16, 17, 18, 19])"
      ]
     },
     "execution_count": 56,
     "metadata": {},
     "output_type": "execute_result"
    }
   ],
   "source": [
    "np.delete(a,[4,6,8,2,7])"
   ]
  },
  {
   "cell_type": "code",
   "execution_count": 60,
   "id": "2b88f574",
   "metadata": {},
   "outputs": [
    {
     "data": {
      "text/plain": [
       "array([ 0,  1,  2,  3,  4,  6,  7,  8,  9, 10, 11, 12, 13, 14, 15, 16, 17,\n",
       "       18, 19])"
      ]
     },
     "execution_count": 60,
     "metadata": {},
     "output_type": "execute_result"
    }
   ],
   "source": [
    "np.delete(a,5)"
   ]
  },
  {
   "cell_type": "code",
   "execution_count": 61,
   "id": "6a63fd34",
   "metadata": {},
   "outputs": [],
   "source": [
    "b=np.arange(12).reshape(3,4)"
   ]
  },
  {
   "cell_type": "code",
   "execution_count": 62,
   "id": "f528b9c6",
   "metadata": {},
   "outputs": [
    {
     "data": {
      "text/plain": [
       "array([[ 0,  1,  2,  3],\n",
       "       [ 4,  5,  6,  7],\n",
       "       [ 8,  9, 10, 11]])"
      ]
     },
     "execution_count": 62,
     "metadata": {},
     "output_type": "execute_result"
    }
   ],
   "source": [
    "b"
   ]
  },
  {
   "cell_type": "code",
   "execution_count": 63,
   "id": "8fc895d1",
   "metadata": {},
   "outputs": [
    {
     "data": {
      "text/plain": [
       "array([ 0,  1,  3,  4,  5,  6,  7,  8,  9, 10, 11])"
      ]
     },
     "execution_count": 63,
     "metadata": {},
     "output_type": "execute_result"
    }
   ],
   "source": [
    "np.delete(b,2)"
   ]
  },
  {
   "cell_type": "code",
   "execution_count": 71,
   "id": "f81202b9",
   "metadata": {},
   "outputs": [
    {
     "data": {
      "text/plain": [
       "array([ 0,  1,  3,  4,  5,  6,  7,  8,  9, 10, 11])"
      ]
     },
     "execution_count": 71,
     "metadata": {},
     "output_type": "execute_result"
    }
   ],
   "source": [
    "np.delete(b,2,axis=None)"
   ]
  },
  {
   "cell_type": "code",
   "execution_count": 66,
   "id": "9df5b230",
   "metadata": {},
   "outputs": [
    {
     "data": {
      "text/plain": [
       "array([ 0,  2,  4,  5,  6,  7,  8,  9, 10, 11])"
      ]
     },
     "execution_count": 66,
     "metadata": {},
     "output_type": "execute_result"
    }
   ],
   "source": [
    "np.delete(b,[1,3])"
   ]
  },
  {
   "cell_type": "code",
   "execution_count": 70,
   "id": "630dd4f0",
   "metadata": {},
   "outputs": [
    {
     "data": {
      "text/plain": [
       "array([[ 0,  2,  3],\n",
       "       [ 4,  6,  7],\n",
       "       [ 8, 10, 11]])"
      ]
     },
     "execution_count": 70,
     "metadata": {},
     "output_type": "execute_result"
    }
   ],
   "source": [
    "np.delete(b,1,axis=1)"
   ]
  },
  {
   "cell_type": "code",
   "execution_count": 72,
   "id": "405e2aa5",
   "metadata": {},
   "outputs": [
    {
     "data": {
      "text/plain": [
       "array([ 1,  2,  3,  4,  5,  6,  7,  8,  9, 10, 11])"
      ]
     },
     "execution_count": 72,
     "metadata": {},
     "output_type": "execute_result"
    }
   ],
   "source": [
    "np.delete(b,0)"
   ]
  },
  {
   "cell_type": "code",
   "execution_count": 73,
   "id": "fc13bb1b",
   "metadata": {},
   "outputs": [
    {
     "data": {
      "text/plain": [
       "array([ 1,  2,  3,  4,  5,  6,  7,  8,  9, 10, 11])"
      ]
     },
     "execution_count": 73,
     "metadata": {},
     "output_type": "execute_result"
    }
   ],
   "source": [
    "np.delete(b,0,axis=None)"
   ]
  },
  {
   "cell_type": "code",
   "execution_count": 74,
   "id": "f31e3bf9",
   "metadata": {},
   "outputs": [
    {
     "data": {
      "text/plain": [
       "array([[ 1,  2],\n",
       "       [ 5,  6],\n",
       "       [ 9, 10]])"
      ]
     },
     "execution_count": 74,
     "metadata": {},
     "output_type": "execute_result"
    }
   ],
   "source": [
    "np.delete(b,[0,-1],axis=1)"
   ]
  },
  {
   "cell_type": "code",
   "execution_count": 75,
   "id": "0adabc7e",
   "metadata": {},
   "outputs": [
    {
     "data": {
      "text/plain": [
       "array([[ 0,  1,  2,  3],\n",
       "       [ 4,  5,  6,  7],\n",
       "       [ 8,  9, 10, 11]])"
      ]
     },
     "execution_count": 75,
     "metadata": {},
     "output_type": "execute_result"
    }
   ],
   "source": [
    "b"
   ]
  },
  {
   "cell_type": "code",
   "execution_count": 76,
   "id": "d2869399",
   "metadata": {},
   "outputs": [
    {
     "data": {
      "text/plain": [
       "array([[4, 5, 6, 7]])"
      ]
     },
     "execution_count": 76,
     "metadata": {},
     "output_type": "execute_result"
    }
   ],
   "source": [
    "np.delete(b,[0,-1],axis=0)"
   ]
  },
  {
   "cell_type": "code",
   "execution_count": 79,
   "id": "ea10acc1",
   "metadata": {},
   "outputs": [
    {
     "data": {
      "text/plain": [
       "array([ 0,  2,  4,  6,  8, 10])"
      ]
     },
     "execution_count": 79,
     "metadata": {},
     "output_type": "execute_result"
    }
   ],
   "source": [
    "np.extract(b%2==0,b)"
   ]
  },
  {
   "cell_type": "code",
   "execution_count": 80,
   "id": "9606ab56",
   "metadata": {},
   "outputs": [
    {
     "data": {
      "text/plain": [
       "array([ 1,  3,  5,  7,  9, 11])"
      ]
     },
     "execution_count": 80,
     "metadata": {},
     "output_type": "execute_result"
    }
   ],
   "source": [
    "np.extract(b%2!=0,b)"
   ]
  },
  {
   "cell_type": "code",
   "execution_count": 82,
   "id": "4d958cc0",
   "metadata": {},
   "outputs": [
    {
     "data": {
      "text/plain": [
       "array([12, 15, 18, 21])"
      ]
     },
     "execution_count": 82,
     "metadata": {},
     "output_type": "execute_result"
    }
   ],
   "source": [
    "sum(b)"
   ]
  },
  {
   "cell_type": "code",
   "execution_count": 83,
   "id": "c5c95cda",
   "metadata": {},
   "outputs": [],
   "source": [
    "import sys"
   ]
  },
  {
   "cell_type": "code",
   "execution_count": 84,
   "id": "1462d6e1",
   "metadata": {},
   "outputs": [],
   "source": [
    "np.set_printoptions(threshold=sys.maxsize)"
   ]
  },
  {
   "cell_type": "code",
   "execution_count": 85,
   "id": "34aeb654",
   "metadata": {},
   "outputs": [
    {
     "data": {
      "text/plain": [
       "array([   0,    1,    2,    3,    4,    5,    6,    7,    8,    9,   10,\n",
       "         11,   12,   13,   14,   15,   16,   17,   18,   19,   20,   21,\n",
       "         22,   23,   24,   25,   26,   27,   28,   29,   30,   31,   32,\n",
       "         33,   34,   35,   36,   37,   38,   39,   40,   41,   42,   43,\n",
       "         44,   45,   46,   47,   48,   49,   50,   51,   52,   53,   54,\n",
       "         55,   56,   57,   58,   59,   60,   61,   62,   63,   64,   65,\n",
       "         66,   67,   68,   69,   70,   71,   72,   73,   74,   75,   76,\n",
       "         77,   78,   79,   80,   81,   82,   83,   84,   85,   86,   87,\n",
       "         88,   89,   90,   91,   92,   93,   94,   95,   96,   97,   98,\n",
       "         99,  100,  101,  102,  103,  104,  105,  106,  107,  108,  109,\n",
       "        110,  111,  112,  113,  114,  115,  116,  117,  118,  119,  120,\n",
       "        121,  122,  123,  124,  125,  126,  127,  128,  129,  130,  131,\n",
       "        132,  133,  134,  135,  136,  137,  138,  139,  140,  141,  142,\n",
       "        143,  144,  145,  146,  147,  148,  149,  150,  151,  152,  153,\n",
       "        154,  155,  156,  157,  158,  159,  160,  161,  162,  163,  164,\n",
       "        165,  166,  167,  168,  169,  170,  171,  172,  173,  174,  175,\n",
       "        176,  177,  178,  179,  180,  181,  182,  183,  184,  185,  186,\n",
       "        187,  188,  189,  190,  191,  192,  193,  194,  195,  196,  197,\n",
       "        198,  199,  200,  201,  202,  203,  204,  205,  206,  207,  208,\n",
       "        209,  210,  211,  212,  213,  214,  215,  216,  217,  218,  219,\n",
       "        220,  221,  222,  223,  224,  225,  226,  227,  228,  229,  230,\n",
       "        231,  232,  233,  234,  235,  236,  237,  238,  239,  240,  241,\n",
       "        242,  243,  244,  245,  246,  247,  248,  249,  250,  251,  252,\n",
       "        253,  254,  255,  256,  257,  258,  259,  260,  261,  262,  263,\n",
       "        264,  265,  266,  267,  268,  269,  270,  271,  272,  273,  274,\n",
       "        275,  276,  277,  278,  279,  280,  281,  282,  283,  284,  285,\n",
       "        286,  287,  288,  289,  290,  291,  292,  293,  294,  295,  296,\n",
       "        297,  298,  299,  300,  301,  302,  303,  304,  305,  306,  307,\n",
       "        308,  309,  310,  311,  312,  313,  314,  315,  316,  317,  318,\n",
       "        319,  320,  321,  322,  323,  324,  325,  326,  327,  328,  329,\n",
       "        330,  331,  332,  333,  334,  335,  336,  337,  338,  339,  340,\n",
       "        341,  342,  343,  344,  345,  346,  347,  348,  349,  350,  351,\n",
       "        352,  353,  354,  355,  356,  357,  358,  359,  360,  361,  362,\n",
       "        363,  364,  365,  366,  367,  368,  369,  370,  371,  372,  373,\n",
       "        374,  375,  376,  377,  378,  379,  380,  381,  382,  383,  384,\n",
       "        385,  386,  387,  388,  389,  390,  391,  392,  393,  394,  395,\n",
       "        396,  397,  398,  399,  400,  401,  402,  403,  404,  405,  406,\n",
       "        407,  408,  409,  410,  411,  412,  413,  414,  415,  416,  417,\n",
       "        418,  419,  420,  421,  422,  423,  424,  425,  426,  427,  428,\n",
       "        429,  430,  431,  432,  433,  434,  435,  436,  437,  438,  439,\n",
       "        440,  441,  442,  443,  444,  445,  446,  447,  448,  449,  450,\n",
       "        451,  452,  453,  454,  455,  456,  457,  458,  459,  460,  461,\n",
       "        462,  463,  464,  465,  466,  467,  468,  469,  470,  471,  472,\n",
       "        473,  474,  475,  476,  477,  478,  479,  480,  481,  482,  483,\n",
       "        484,  485,  486,  487,  488,  489,  490,  491,  492,  493,  494,\n",
       "        495,  496,  497,  498,  499,  500,  501,  502,  503,  504,  505,\n",
       "        506,  507,  508,  509,  510,  511,  512,  513,  514,  515,  516,\n",
       "        517,  518,  519,  520,  521,  522,  523,  524,  525,  526,  527,\n",
       "        528,  529,  530,  531,  532,  533,  534,  535,  536,  537,  538,\n",
       "        539,  540,  541,  542,  543,  544,  545,  546,  547,  548,  549,\n",
       "        550,  551,  552,  553,  554,  555,  556,  557,  558,  559,  560,\n",
       "        561,  562,  563,  564,  565,  566,  567,  568,  569,  570,  571,\n",
       "        572,  573,  574,  575,  576,  577,  578,  579,  580,  581,  582,\n",
       "        583,  584,  585,  586,  587,  588,  589,  590,  591,  592,  593,\n",
       "        594,  595,  596,  597,  598,  599,  600,  601,  602,  603,  604,\n",
       "        605,  606,  607,  608,  609,  610,  611,  612,  613,  614,  615,\n",
       "        616,  617,  618,  619,  620,  621,  622,  623,  624,  625,  626,\n",
       "        627,  628,  629,  630,  631,  632,  633,  634,  635,  636,  637,\n",
       "        638,  639,  640,  641,  642,  643,  644,  645,  646,  647,  648,\n",
       "        649,  650,  651,  652,  653,  654,  655,  656,  657,  658,  659,\n",
       "        660,  661,  662,  663,  664,  665,  666,  667,  668,  669,  670,\n",
       "        671,  672,  673,  674,  675,  676,  677,  678,  679,  680,  681,\n",
       "        682,  683,  684,  685,  686,  687,  688,  689,  690,  691,  692,\n",
       "        693,  694,  695,  696,  697,  698,  699,  700,  701,  702,  703,\n",
       "        704,  705,  706,  707,  708,  709,  710,  711,  712,  713,  714,\n",
       "        715,  716,  717,  718,  719,  720,  721,  722,  723,  724,  725,\n",
       "        726,  727,  728,  729,  730,  731,  732,  733,  734,  735,  736,\n",
       "        737,  738,  739,  740,  741,  742,  743,  744,  745,  746,  747,\n",
       "        748,  749,  750,  751,  752,  753,  754,  755,  756,  757,  758,\n",
       "        759,  760,  761,  762,  763,  764,  765,  766,  767,  768,  769,\n",
       "        770,  771,  772,  773,  774,  775,  776,  777,  778,  779,  780,\n",
       "        781,  782,  783,  784,  785,  786,  787,  788,  789,  790,  791,\n",
       "        792,  793,  794,  795,  796,  797,  798,  799,  800,  801,  802,\n",
       "        803,  804,  805,  806,  807,  808,  809,  810,  811,  812,  813,\n",
       "        814,  815,  816,  817,  818,  819,  820,  821,  822,  823,  824,\n",
       "        825,  826,  827,  828,  829,  830,  831,  832,  833,  834,  835,\n",
       "        836,  837,  838,  839,  840,  841,  842,  843,  844,  845,  846,\n",
       "        847,  848,  849,  850,  851,  852,  853,  854,  855,  856,  857,\n",
       "        858,  859,  860,  861,  862,  863,  864,  865,  866,  867,  868,\n",
       "        869,  870,  871,  872,  873,  874,  875,  876,  877,  878,  879,\n",
       "        880,  881,  882,  883,  884,  885,  886,  887,  888,  889,  890,\n",
       "        891,  892,  893,  894,  895,  896,  897,  898,  899,  900,  901,\n",
       "        902,  903,  904,  905,  906,  907,  908,  909,  910,  911,  912,\n",
       "        913,  914,  915,  916,  917,  918,  919,  920,  921,  922,  923,\n",
       "        924,  925,  926,  927,  928,  929,  930,  931,  932,  933,  934,\n",
       "        935,  936,  937,  938,  939,  940,  941,  942,  943,  944,  945,\n",
       "        946,  947,  948,  949,  950,  951,  952,  953,  954,  955,  956,\n",
       "        957,  958,  959,  960,  961,  962,  963,  964,  965,  966,  967,\n",
       "        968,  969,  970,  971,  972,  973,  974,  975,  976,  977,  978,\n",
       "        979,  980,  981,  982,  983,  984,  985,  986,  987,  988,  989,\n",
       "        990,  991,  992,  993,  994,  995,  996,  997,  998,  999, 1000,\n",
       "       1001, 1002, 1003, 1004, 1005, 1006, 1007, 1008, 1009, 1010, 1011,\n",
       "       1012, 1013, 1014, 1015, 1016, 1017, 1018, 1019, 1020, 1021, 1022,\n",
       "       1023, 1024, 1025, 1026, 1027, 1028, 1029, 1030, 1031, 1032, 1033,\n",
       "       1034, 1035, 1036, 1037, 1038, 1039, 1040, 1041, 1042, 1043, 1044,\n",
       "       1045, 1046, 1047, 1048, 1049, 1050, 1051, 1052, 1053, 1054, 1055,\n",
       "       1056, 1057, 1058, 1059, 1060, 1061, 1062, 1063, 1064, 1065, 1066,\n",
       "       1067, 1068, 1069, 1070, 1071, 1072, 1073, 1074, 1075, 1076, 1077,\n",
       "       1078, 1079, 1080, 1081, 1082, 1083, 1084, 1085, 1086, 1087, 1088,\n",
       "       1089, 1090, 1091, 1092, 1093, 1094, 1095, 1096, 1097, 1098, 1099,\n",
       "       1100, 1101, 1102, 1103, 1104, 1105, 1106, 1107, 1108, 1109, 1110,\n",
       "       1111, 1112, 1113, 1114, 1115, 1116, 1117, 1118, 1119, 1120, 1121,\n",
       "       1122, 1123, 1124, 1125, 1126, 1127, 1128, 1129, 1130, 1131, 1132,\n",
       "       1133, 1134, 1135, 1136, 1137, 1138, 1139, 1140, 1141, 1142, 1143,\n",
       "       1144, 1145, 1146, 1147, 1148, 1149, 1150, 1151, 1152, 1153, 1154,\n",
       "       1155, 1156, 1157, 1158, 1159, 1160, 1161, 1162, 1163, 1164, 1165,\n",
       "       1166, 1167, 1168, 1169, 1170, 1171, 1172, 1173, 1174, 1175, 1176,\n",
       "       1177, 1178, 1179, 1180, 1181, 1182, 1183, 1184, 1185, 1186, 1187,\n",
       "       1188, 1189, 1190, 1191, 1192, 1193, 1194, 1195, 1196, 1197, 1198,\n",
       "       1199, 1200, 1201, 1202, 1203, 1204, 1205, 1206, 1207, 1208, 1209,\n",
       "       1210, 1211, 1212, 1213, 1214, 1215, 1216, 1217, 1218, 1219, 1220,\n",
       "       1221, 1222, 1223, 1224, 1225, 1226, 1227, 1228, 1229, 1230, 1231,\n",
       "       1232, 1233, 1234, 1235, 1236, 1237, 1238, 1239, 1240, 1241, 1242,\n",
       "       1243, 1244, 1245, 1246, 1247, 1248, 1249, 1250, 1251, 1252, 1253,\n",
       "       1254, 1255, 1256, 1257, 1258, 1259, 1260, 1261, 1262, 1263, 1264,\n",
       "       1265, 1266, 1267, 1268, 1269, 1270, 1271, 1272, 1273, 1274, 1275,\n",
       "       1276, 1277, 1278, 1279, 1280, 1281, 1282, 1283, 1284, 1285, 1286,\n",
       "       1287, 1288, 1289, 1290, 1291, 1292, 1293, 1294, 1295, 1296, 1297,\n",
       "       1298, 1299, 1300, 1301, 1302, 1303, 1304, 1305, 1306, 1307, 1308,\n",
       "       1309, 1310, 1311, 1312, 1313, 1314, 1315, 1316, 1317, 1318, 1319,\n",
       "       1320, 1321, 1322, 1323, 1324, 1325, 1326, 1327, 1328, 1329, 1330,\n",
       "       1331, 1332, 1333, 1334, 1335, 1336, 1337, 1338, 1339, 1340, 1341,\n",
       "       1342, 1343, 1344, 1345, 1346, 1347, 1348, 1349, 1350, 1351, 1352,\n",
       "       1353, 1354, 1355, 1356, 1357, 1358, 1359, 1360, 1361, 1362, 1363,\n",
       "       1364, 1365, 1366, 1367, 1368, 1369, 1370, 1371, 1372, 1373, 1374,\n",
       "       1375, 1376, 1377, 1378, 1379, 1380, 1381, 1382, 1383, 1384, 1385,\n",
       "       1386, 1387, 1388, 1389, 1390, 1391, 1392, 1393, 1394, 1395, 1396,\n",
       "       1397, 1398, 1399, 1400, 1401, 1402, 1403, 1404, 1405, 1406, 1407,\n",
       "       1408, 1409, 1410, 1411, 1412, 1413, 1414, 1415, 1416, 1417, 1418,\n",
       "       1419, 1420, 1421, 1422, 1423, 1424, 1425, 1426, 1427, 1428, 1429,\n",
       "       1430, 1431, 1432, 1433, 1434, 1435, 1436, 1437, 1438, 1439, 1440,\n",
       "       1441, 1442, 1443, 1444, 1445, 1446, 1447, 1448, 1449, 1450, 1451,\n",
       "       1452, 1453, 1454, 1455, 1456, 1457, 1458, 1459, 1460, 1461, 1462,\n",
       "       1463, 1464, 1465, 1466, 1467, 1468, 1469, 1470, 1471, 1472, 1473,\n",
       "       1474, 1475, 1476, 1477, 1478, 1479, 1480, 1481, 1482, 1483, 1484,\n",
       "       1485, 1486, 1487, 1488, 1489, 1490, 1491, 1492, 1493, 1494, 1495,\n",
       "       1496, 1497, 1498, 1499, 1500, 1501, 1502, 1503, 1504, 1505, 1506,\n",
       "       1507, 1508, 1509, 1510, 1511, 1512, 1513, 1514, 1515, 1516, 1517,\n",
       "       1518, 1519, 1520, 1521, 1522, 1523, 1524, 1525, 1526, 1527, 1528,\n",
       "       1529, 1530, 1531, 1532, 1533, 1534, 1535, 1536, 1537, 1538, 1539,\n",
       "       1540, 1541, 1542, 1543, 1544, 1545, 1546, 1547, 1548, 1549, 1550,\n",
       "       1551, 1552, 1553, 1554, 1555, 1556, 1557, 1558, 1559, 1560, 1561,\n",
       "       1562, 1563, 1564, 1565, 1566, 1567, 1568, 1569, 1570, 1571, 1572,\n",
       "       1573, 1574, 1575, 1576, 1577, 1578, 1579, 1580, 1581, 1582, 1583,\n",
       "       1584, 1585, 1586, 1587, 1588, 1589, 1590, 1591, 1592, 1593, 1594,\n",
       "       1595, 1596, 1597, 1598, 1599, 1600, 1601, 1602, 1603, 1604, 1605,\n",
       "       1606, 1607, 1608, 1609, 1610, 1611, 1612, 1613, 1614, 1615, 1616,\n",
       "       1617, 1618, 1619, 1620, 1621, 1622, 1623, 1624, 1625, 1626, 1627,\n",
       "       1628, 1629, 1630, 1631, 1632, 1633, 1634, 1635, 1636, 1637, 1638,\n",
       "       1639, 1640, 1641, 1642, 1643, 1644, 1645, 1646, 1647, 1648, 1649,\n",
       "       1650, 1651, 1652, 1653, 1654, 1655, 1656, 1657, 1658, 1659, 1660,\n",
       "       1661, 1662, 1663, 1664, 1665, 1666, 1667, 1668, 1669, 1670, 1671,\n",
       "       1672, 1673, 1674, 1675, 1676, 1677, 1678, 1679, 1680, 1681, 1682,\n",
       "       1683, 1684, 1685, 1686, 1687, 1688, 1689, 1690, 1691, 1692, 1693,\n",
       "       1694, 1695, 1696, 1697, 1698, 1699, 1700, 1701, 1702, 1703, 1704,\n",
       "       1705, 1706, 1707, 1708, 1709, 1710, 1711, 1712, 1713, 1714, 1715,\n",
       "       1716, 1717, 1718, 1719, 1720, 1721, 1722, 1723, 1724, 1725, 1726,\n",
       "       1727, 1728, 1729, 1730, 1731, 1732, 1733, 1734, 1735, 1736, 1737,\n",
       "       1738, 1739, 1740, 1741, 1742, 1743, 1744, 1745, 1746, 1747, 1748,\n",
       "       1749, 1750, 1751, 1752, 1753, 1754, 1755, 1756, 1757, 1758, 1759,\n",
       "       1760, 1761, 1762, 1763, 1764, 1765, 1766, 1767, 1768, 1769, 1770,\n",
       "       1771, 1772, 1773, 1774, 1775, 1776, 1777, 1778, 1779, 1780, 1781,\n",
       "       1782, 1783, 1784, 1785, 1786, 1787, 1788, 1789, 1790, 1791, 1792,\n",
       "       1793, 1794, 1795, 1796, 1797, 1798, 1799, 1800, 1801, 1802, 1803,\n",
       "       1804, 1805, 1806, 1807, 1808, 1809, 1810, 1811, 1812, 1813, 1814,\n",
       "       1815, 1816, 1817, 1818, 1819, 1820, 1821, 1822, 1823, 1824, 1825,\n",
       "       1826, 1827, 1828, 1829, 1830, 1831, 1832, 1833, 1834, 1835, 1836,\n",
       "       1837, 1838, 1839, 1840, 1841, 1842, 1843, 1844, 1845, 1846, 1847,\n",
       "       1848, 1849, 1850, 1851, 1852, 1853, 1854, 1855, 1856, 1857, 1858,\n",
       "       1859, 1860, 1861, 1862, 1863, 1864, 1865, 1866, 1867, 1868, 1869,\n",
       "       1870, 1871, 1872, 1873, 1874, 1875, 1876, 1877, 1878, 1879, 1880,\n",
       "       1881, 1882, 1883, 1884, 1885, 1886, 1887, 1888, 1889, 1890, 1891,\n",
       "       1892, 1893, 1894, 1895, 1896, 1897, 1898, 1899, 1900, 1901, 1902,\n",
       "       1903, 1904, 1905, 1906, 1907, 1908, 1909, 1910, 1911, 1912, 1913,\n",
       "       1914, 1915, 1916, 1917, 1918, 1919, 1920, 1921, 1922, 1923, 1924,\n",
       "       1925, 1926, 1927, 1928, 1929, 1930, 1931, 1932, 1933, 1934, 1935,\n",
       "       1936, 1937, 1938, 1939, 1940, 1941, 1942, 1943, 1944, 1945, 1946,\n",
       "       1947, 1948, 1949, 1950, 1951, 1952, 1953, 1954, 1955, 1956, 1957,\n",
       "       1958, 1959, 1960, 1961, 1962, 1963, 1964, 1965, 1966, 1967, 1968,\n",
       "       1969, 1970, 1971, 1972, 1973, 1974, 1975, 1976, 1977, 1978, 1979,\n",
       "       1980, 1981, 1982, 1983, 1984, 1985, 1986, 1987, 1988, 1989, 1990,\n",
       "       1991, 1992, 1993, 1994, 1995, 1996, 1997, 1998, 1999, 2000, 2001,\n",
       "       2002, 2003, 2004, 2005, 2006, 2007, 2008, 2009, 2010, 2011, 2012,\n",
       "       2013, 2014, 2015, 2016, 2017, 2018, 2019, 2020, 2021, 2022, 2023,\n",
       "       2024, 2025, 2026, 2027, 2028, 2029, 2030, 2031, 2032, 2033, 2034,\n",
       "       2035, 2036, 2037, 2038, 2039, 2040, 2041, 2042, 2043, 2044, 2045,\n",
       "       2046, 2047, 2048, 2049, 2050, 2051, 2052, 2053, 2054, 2055, 2056,\n",
       "       2057, 2058, 2059, 2060, 2061, 2062, 2063, 2064, 2065, 2066, 2067,\n",
       "       2068, 2069, 2070, 2071, 2072, 2073, 2074, 2075, 2076, 2077, 2078,\n",
       "       2079, 2080, 2081, 2082, 2083, 2084, 2085, 2086, 2087, 2088, 2089,\n",
       "       2090, 2091, 2092, 2093, 2094, 2095, 2096, 2097, 2098, 2099, 2100,\n",
       "       2101, 2102, 2103, 2104, 2105, 2106, 2107, 2108, 2109, 2110, 2111,\n",
       "       2112, 2113, 2114, 2115, 2116, 2117, 2118, 2119, 2120, 2121, 2122,\n",
       "       2123, 2124, 2125, 2126, 2127, 2128, 2129, 2130, 2131, 2132, 2133,\n",
       "       2134, 2135, 2136, 2137, 2138, 2139, 2140, 2141, 2142, 2143, 2144,\n",
       "       2145, 2146, 2147, 2148, 2149, 2150, 2151, 2152, 2153, 2154, 2155,\n",
       "       2156, 2157, 2158, 2159, 2160, 2161, 2162, 2163, 2164, 2165, 2166,\n",
       "       2167, 2168, 2169, 2170, 2171, 2172, 2173, 2174, 2175, 2176, 2177,\n",
       "       2178, 2179, 2180, 2181, 2182, 2183, 2184, 2185, 2186, 2187, 2188,\n",
       "       2189, 2190, 2191, 2192, 2193, 2194, 2195, 2196, 2197, 2198, 2199,\n",
       "       2200, 2201, 2202, 2203, 2204, 2205, 2206, 2207, 2208, 2209, 2210,\n",
       "       2211, 2212, 2213, 2214, 2215, 2216, 2217, 2218, 2219, 2220, 2221,\n",
       "       2222, 2223, 2224, 2225, 2226, 2227, 2228, 2229, 2230, 2231, 2232,\n",
       "       2233, 2234, 2235, 2236, 2237, 2238, 2239, 2240, 2241, 2242, 2243,\n",
       "       2244, 2245, 2246, 2247, 2248, 2249, 2250, 2251, 2252, 2253, 2254,\n",
       "       2255, 2256, 2257, 2258, 2259, 2260, 2261, 2262, 2263, 2264, 2265,\n",
       "       2266, 2267, 2268, 2269, 2270, 2271, 2272, 2273, 2274, 2275, 2276,\n",
       "       2277, 2278, 2279, 2280, 2281, 2282, 2283, 2284, 2285, 2286, 2287,\n",
       "       2288, 2289, 2290, 2291, 2292, 2293, 2294, 2295, 2296, 2297, 2298,\n",
       "       2299, 2300, 2301, 2302, 2303, 2304, 2305, 2306, 2307, 2308, 2309,\n",
       "       2310, 2311, 2312, 2313, 2314, 2315, 2316, 2317, 2318, 2319, 2320,\n",
       "       2321, 2322, 2323, 2324, 2325, 2326, 2327, 2328, 2329, 2330, 2331,\n",
       "       2332, 2333, 2334, 2335, 2336, 2337, 2338, 2339, 2340, 2341, 2342,\n",
       "       2343, 2344, 2345, 2346, 2347, 2348, 2349, 2350, 2351, 2352, 2353,\n",
       "       2354, 2355, 2356, 2357, 2358, 2359, 2360, 2361, 2362, 2363, 2364,\n",
       "       2365, 2366, 2367, 2368, 2369, 2370, 2371, 2372, 2373, 2374, 2375,\n",
       "       2376, 2377, 2378, 2379, 2380, 2381, 2382, 2383, 2384, 2385, 2386,\n",
       "       2387, 2388, 2389, 2390, 2391, 2392, 2393, 2394, 2395, 2396, 2397,\n",
       "       2398, 2399, 2400, 2401, 2402, 2403, 2404, 2405, 2406, 2407, 2408,\n",
       "       2409, 2410, 2411, 2412, 2413, 2414, 2415, 2416, 2417, 2418, 2419,\n",
       "       2420, 2421, 2422, 2423, 2424, 2425, 2426, 2427, 2428, 2429, 2430,\n",
       "       2431, 2432, 2433, 2434, 2435, 2436, 2437, 2438, 2439, 2440, 2441,\n",
       "       2442, 2443, 2444, 2445, 2446, 2447, 2448, 2449, 2450, 2451, 2452,\n",
       "       2453, 2454, 2455, 2456, 2457, 2458, 2459, 2460, 2461, 2462, 2463,\n",
       "       2464, 2465, 2466, 2467, 2468, 2469, 2470, 2471, 2472, 2473, 2474,\n",
       "       2475, 2476, 2477, 2478, 2479, 2480, 2481, 2482, 2483, 2484, 2485,\n",
       "       2486, 2487, 2488, 2489, 2490, 2491, 2492, 2493, 2494, 2495, 2496,\n",
       "       2497, 2498, 2499, 2500, 2501, 2502, 2503, 2504, 2505, 2506, 2507,\n",
       "       2508, 2509, 2510, 2511, 2512, 2513, 2514, 2515, 2516, 2517, 2518,\n",
       "       2519, 2520, 2521, 2522, 2523, 2524, 2525, 2526, 2527, 2528, 2529,\n",
       "       2530, 2531, 2532, 2533, 2534, 2535, 2536, 2537, 2538, 2539, 2540,\n",
       "       2541, 2542, 2543, 2544, 2545, 2546, 2547, 2548, 2549, 2550, 2551,\n",
       "       2552, 2553, 2554, 2555, 2556, 2557, 2558, 2559, 2560, 2561, 2562,\n",
       "       2563, 2564, 2565, 2566, 2567, 2568, 2569, 2570, 2571, 2572, 2573,\n",
       "       2574, 2575, 2576, 2577, 2578, 2579, 2580, 2581, 2582, 2583, 2584,\n",
       "       2585, 2586, 2587, 2588, 2589, 2590, 2591, 2592, 2593, 2594, 2595,\n",
       "       2596, 2597, 2598, 2599, 2600, 2601, 2602, 2603, 2604, 2605, 2606,\n",
       "       2607, 2608, 2609, 2610, 2611, 2612, 2613, 2614, 2615, 2616, 2617,\n",
       "       2618, 2619, 2620, 2621, 2622, 2623, 2624, 2625, 2626, 2627, 2628,\n",
       "       2629, 2630, 2631, 2632, 2633, 2634, 2635, 2636, 2637, 2638, 2639,\n",
       "       2640, 2641, 2642, 2643, 2644, 2645, 2646, 2647, 2648, 2649, 2650,\n",
       "       2651, 2652, 2653, 2654, 2655, 2656, 2657, 2658, 2659, 2660, 2661,\n",
       "       2662, 2663, 2664, 2665, 2666, 2667, 2668, 2669, 2670, 2671, 2672,\n",
       "       2673, 2674, 2675, 2676, 2677, 2678, 2679, 2680, 2681, 2682, 2683,\n",
       "       2684, 2685, 2686, 2687, 2688, 2689, 2690, 2691, 2692, 2693, 2694,\n",
       "       2695, 2696, 2697, 2698, 2699, 2700, 2701, 2702, 2703, 2704, 2705,\n",
       "       2706, 2707, 2708, 2709, 2710, 2711, 2712, 2713, 2714, 2715, 2716,\n",
       "       2717, 2718, 2719, 2720, 2721, 2722, 2723, 2724, 2725, 2726, 2727,\n",
       "       2728, 2729, 2730, 2731, 2732, 2733, 2734, 2735, 2736, 2737, 2738,\n",
       "       2739, 2740, 2741, 2742, 2743, 2744, 2745, 2746, 2747, 2748, 2749,\n",
       "       2750, 2751, 2752, 2753, 2754, 2755, 2756, 2757, 2758, 2759, 2760,\n",
       "       2761, 2762, 2763, 2764, 2765, 2766, 2767, 2768, 2769, 2770, 2771,\n",
       "       2772, 2773, 2774, 2775, 2776, 2777, 2778, 2779, 2780, 2781, 2782,\n",
       "       2783, 2784, 2785, 2786, 2787, 2788, 2789, 2790, 2791, 2792, 2793,\n",
       "       2794, 2795, 2796, 2797, 2798, 2799, 2800, 2801, 2802, 2803, 2804,\n",
       "       2805, 2806, 2807, 2808, 2809, 2810, 2811, 2812, 2813, 2814, 2815,\n",
       "       2816, 2817, 2818, 2819, 2820, 2821, 2822, 2823, 2824, 2825, 2826,\n",
       "       2827, 2828, 2829, 2830, 2831, 2832, 2833, 2834, 2835, 2836, 2837,\n",
       "       2838, 2839, 2840, 2841, 2842, 2843, 2844, 2845, 2846, 2847, 2848,\n",
       "       2849, 2850, 2851, 2852, 2853, 2854, 2855, 2856, 2857, 2858, 2859,\n",
       "       2860, 2861, 2862, 2863, 2864, 2865, 2866, 2867, 2868, 2869, 2870,\n",
       "       2871, 2872, 2873, 2874, 2875, 2876, 2877, 2878, 2879, 2880, 2881,\n",
       "       2882, 2883, 2884, 2885, 2886, 2887, 2888, 2889, 2890, 2891, 2892,\n",
       "       2893, 2894, 2895, 2896, 2897, 2898, 2899, 2900, 2901, 2902, 2903,\n",
       "       2904, 2905, 2906, 2907, 2908, 2909, 2910, 2911, 2912, 2913, 2914,\n",
       "       2915, 2916, 2917, 2918, 2919, 2920, 2921, 2922, 2923, 2924, 2925,\n",
       "       2926, 2927, 2928, 2929, 2930, 2931, 2932, 2933, 2934, 2935, 2936,\n",
       "       2937, 2938, 2939, 2940, 2941, 2942, 2943, 2944, 2945, 2946, 2947,\n",
       "       2948, 2949, 2950, 2951, 2952, 2953, 2954, 2955, 2956, 2957, 2958,\n",
       "       2959, 2960, 2961, 2962, 2963, 2964, 2965, 2966, 2967, 2968, 2969,\n",
       "       2970, 2971, 2972, 2973, 2974, 2975, 2976, 2977, 2978, 2979, 2980,\n",
       "       2981, 2982, 2983, 2984, 2985, 2986, 2987, 2988, 2989, 2990, 2991,\n",
       "       2992, 2993, 2994, 2995, 2996, 2997, 2998, 2999, 3000, 3001, 3002,\n",
       "       3003, 3004, 3005, 3006, 3007, 3008, 3009, 3010, 3011, 3012, 3013,\n",
       "       3014, 3015, 3016, 3017, 3018, 3019, 3020, 3021, 3022, 3023, 3024,\n",
       "       3025, 3026, 3027, 3028, 3029, 3030, 3031, 3032, 3033, 3034, 3035,\n",
       "       3036, 3037, 3038, 3039, 3040, 3041, 3042, 3043, 3044, 3045, 3046,\n",
       "       3047, 3048, 3049, 3050, 3051, 3052, 3053, 3054, 3055, 3056, 3057,\n",
       "       3058, 3059, 3060, 3061, 3062, 3063, 3064, 3065, 3066, 3067, 3068,\n",
       "       3069, 3070, 3071, 3072, 3073, 3074, 3075, 3076, 3077, 3078, 3079,\n",
       "       3080, 3081, 3082, 3083, 3084, 3085, 3086, 3087, 3088, 3089, 3090,\n",
       "       3091, 3092, 3093, 3094, 3095, 3096, 3097, 3098, 3099, 3100, 3101,\n",
       "       3102, 3103, 3104, 3105, 3106, 3107, 3108, 3109, 3110, 3111, 3112,\n",
       "       3113, 3114, 3115, 3116, 3117, 3118, 3119, 3120, 3121, 3122, 3123,\n",
       "       3124, 3125, 3126, 3127, 3128, 3129, 3130, 3131, 3132, 3133, 3134,\n",
       "       3135, 3136, 3137, 3138, 3139, 3140, 3141, 3142, 3143, 3144, 3145,\n",
       "       3146, 3147, 3148, 3149, 3150, 3151, 3152, 3153, 3154, 3155, 3156,\n",
       "       3157, 3158, 3159, 3160, 3161, 3162, 3163, 3164, 3165, 3166, 3167,\n",
       "       3168, 3169, 3170, 3171, 3172, 3173, 3174, 3175, 3176, 3177, 3178,\n",
       "       3179, 3180, 3181, 3182, 3183, 3184, 3185, 3186, 3187, 3188, 3189,\n",
       "       3190, 3191, 3192, 3193, 3194, 3195, 3196, 3197, 3198, 3199, 3200,\n",
       "       3201, 3202, 3203, 3204, 3205, 3206, 3207, 3208, 3209, 3210, 3211,\n",
       "       3212, 3213, 3214, 3215, 3216, 3217, 3218, 3219, 3220, 3221, 3222,\n",
       "       3223, 3224, 3225, 3226, 3227, 3228, 3229, 3230, 3231, 3232, 3233,\n",
       "       3234, 3235, 3236, 3237, 3238, 3239, 3240, 3241, 3242, 3243, 3244,\n",
       "       3245, 3246, 3247, 3248, 3249, 3250, 3251, 3252, 3253, 3254, 3255,\n",
       "       3256, 3257, 3258, 3259, 3260, 3261, 3262, 3263, 3264, 3265, 3266,\n",
       "       3267, 3268, 3269, 3270, 3271, 3272, 3273, 3274, 3275, 3276, 3277,\n",
       "       3278, 3279, 3280, 3281, 3282, 3283, 3284, 3285, 3286, 3287, 3288,\n",
       "       3289, 3290, 3291, 3292, 3293, 3294, 3295, 3296, 3297, 3298, 3299,\n",
       "       3300, 3301, 3302, 3303, 3304, 3305, 3306, 3307, 3308, 3309, 3310,\n",
       "       3311, 3312, 3313, 3314, 3315, 3316, 3317, 3318, 3319, 3320, 3321,\n",
       "       3322, 3323, 3324, 3325, 3326, 3327, 3328, 3329, 3330, 3331, 3332,\n",
       "       3333, 3334, 3335, 3336, 3337, 3338, 3339, 3340, 3341, 3342, 3343,\n",
       "       3344, 3345, 3346, 3347, 3348, 3349, 3350, 3351, 3352, 3353, 3354,\n",
       "       3355, 3356, 3357, 3358, 3359, 3360, 3361, 3362, 3363, 3364, 3365,\n",
       "       3366, 3367, 3368, 3369, 3370, 3371, 3372, 3373, 3374, 3375, 3376,\n",
       "       3377, 3378, 3379, 3380, 3381, 3382, 3383, 3384, 3385, 3386, 3387,\n",
       "       3388, 3389, 3390, 3391, 3392, 3393, 3394, 3395, 3396, 3397, 3398,\n",
       "       3399, 3400, 3401, 3402, 3403, 3404, 3405, 3406, 3407, 3408, 3409,\n",
       "       3410, 3411, 3412, 3413, 3414, 3415, 3416, 3417, 3418, 3419, 3420,\n",
       "       3421, 3422, 3423, 3424, 3425, 3426, 3427, 3428, 3429, 3430, 3431,\n",
       "       3432, 3433, 3434, 3435, 3436, 3437, 3438, 3439, 3440, 3441, 3442,\n",
       "       3443, 3444, 3445, 3446, 3447, 3448, 3449, 3450, 3451, 3452, 3453,\n",
       "       3454, 3455, 3456, 3457, 3458, 3459, 3460, 3461, 3462, 3463, 3464,\n",
       "       3465, 3466, 3467, 3468, 3469, 3470, 3471, 3472, 3473, 3474, 3475,\n",
       "       3476, 3477, 3478, 3479, 3480, 3481, 3482, 3483, 3484, 3485, 3486,\n",
       "       3487, 3488, 3489, 3490, 3491, 3492, 3493, 3494, 3495, 3496, 3497,\n",
       "       3498, 3499, 3500, 3501, 3502, 3503, 3504, 3505, 3506, 3507, 3508,\n",
       "       3509, 3510, 3511, 3512, 3513, 3514, 3515, 3516, 3517, 3518, 3519,\n",
       "       3520, 3521, 3522, 3523, 3524, 3525, 3526, 3527, 3528, 3529, 3530,\n",
       "       3531, 3532, 3533, 3534, 3535, 3536, 3537, 3538, 3539, 3540, 3541,\n",
       "       3542, 3543, 3544, 3545, 3546, 3547, 3548, 3549, 3550, 3551, 3552,\n",
       "       3553, 3554, 3555, 3556, 3557, 3558, 3559, 3560, 3561, 3562, 3563,\n",
       "       3564, 3565, 3566, 3567, 3568, 3569, 3570, 3571, 3572, 3573, 3574,\n",
       "       3575, 3576, 3577, 3578, 3579, 3580, 3581, 3582, 3583, 3584, 3585,\n",
       "       3586, 3587, 3588, 3589, 3590, 3591, 3592, 3593, 3594, 3595, 3596,\n",
       "       3597, 3598, 3599, 3600, 3601, 3602, 3603, 3604, 3605, 3606, 3607,\n",
       "       3608, 3609, 3610, 3611, 3612, 3613, 3614, 3615, 3616, 3617, 3618,\n",
       "       3619, 3620, 3621, 3622, 3623, 3624, 3625, 3626, 3627, 3628, 3629,\n",
       "       3630, 3631, 3632, 3633, 3634, 3635, 3636, 3637, 3638, 3639, 3640,\n",
       "       3641, 3642, 3643, 3644, 3645, 3646, 3647, 3648, 3649, 3650, 3651,\n",
       "       3652, 3653, 3654, 3655, 3656, 3657, 3658, 3659, 3660, 3661, 3662,\n",
       "       3663, 3664, 3665, 3666, 3667, 3668, 3669, 3670, 3671, 3672, 3673,\n",
       "       3674, 3675, 3676, 3677, 3678, 3679, 3680, 3681, 3682, 3683, 3684,\n",
       "       3685, 3686, 3687, 3688, 3689, 3690, 3691, 3692, 3693, 3694, 3695,\n",
       "       3696, 3697, 3698, 3699, 3700, 3701, 3702, 3703, 3704, 3705, 3706,\n",
       "       3707, 3708, 3709, 3710, 3711, 3712, 3713, 3714, 3715, 3716, 3717,\n",
       "       3718, 3719, 3720, 3721, 3722, 3723, 3724, 3725, 3726, 3727, 3728,\n",
       "       3729, 3730, 3731, 3732, 3733, 3734, 3735, 3736, 3737, 3738, 3739,\n",
       "       3740, 3741, 3742, 3743, 3744, 3745, 3746, 3747, 3748, 3749, 3750,\n",
       "       3751, 3752, 3753, 3754, 3755, 3756, 3757, 3758, 3759, 3760, 3761,\n",
       "       3762, 3763, 3764, 3765, 3766, 3767, 3768, 3769, 3770, 3771, 3772,\n",
       "       3773, 3774, 3775, 3776, 3777, 3778, 3779, 3780, 3781, 3782, 3783,\n",
       "       3784, 3785, 3786, 3787, 3788, 3789, 3790, 3791, 3792, 3793, 3794,\n",
       "       3795, 3796, 3797, 3798, 3799, 3800, 3801, 3802, 3803, 3804, 3805,\n",
       "       3806, 3807, 3808, 3809, 3810, 3811, 3812, 3813, 3814, 3815, 3816,\n",
       "       3817, 3818, 3819, 3820, 3821, 3822, 3823, 3824, 3825, 3826, 3827,\n",
       "       3828, 3829, 3830, 3831, 3832, 3833, 3834, 3835, 3836, 3837, 3838,\n",
       "       3839, 3840, 3841, 3842, 3843, 3844, 3845, 3846, 3847, 3848, 3849,\n",
       "       3850, 3851, 3852, 3853, 3854, 3855, 3856, 3857, 3858, 3859, 3860,\n",
       "       3861, 3862, 3863, 3864, 3865, 3866, 3867, 3868, 3869, 3870, 3871,\n",
       "       3872, 3873, 3874, 3875, 3876, 3877, 3878, 3879, 3880, 3881, 3882,\n",
       "       3883, 3884, 3885, 3886, 3887, 3888, 3889, 3890, 3891, 3892, 3893,\n",
       "       3894, 3895, 3896, 3897, 3898, 3899, 3900, 3901, 3902, 3903, 3904,\n",
       "       3905, 3906, 3907, 3908, 3909, 3910, 3911, 3912, 3913, 3914, 3915,\n",
       "       3916, 3917, 3918, 3919, 3920, 3921, 3922, 3923, 3924, 3925, 3926,\n",
       "       3927, 3928, 3929, 3930, 3931, 3932, 3933, 3934, 3935, 3936, 3937,\n",
       "       3938, 3939, 3940, 3941, 3942, 3943, 3944, 3945, 3946, 3947, 3948,\n",
       "       3949, 3950, 3951, 3952, 3953, 3954, 3955, 3956, 3957, 3958, 3959,\n",
       "       3960, 3961, 3962, 3963, 3964, 3965, 3966, 3967, 3968, 3969, 3970,\n",
       "       3971, 3972, 3973, 3974, 3975, 3976, 3977, 3978, 3979, 3980, 3981,\n",
       "       3982, 3983, 3984, 3985, 3986, 3987, 3988, 3989, 3990, 3991, 3992,\n",
       "       3993, 3994, 3995, 3996, 3997, 3998, 3999, 4000, 4001, 4002, 4003,\n",
       "       4004, 4005, 4006, 4007, 4008, 4009, 4010, 4011, 4012, 4013, 4014,\n",
       "       4015, 4016, 4017, 4018, 4019, 4020, 4021, 4022, 4023, 4024, 4025,\n",
       "       4026, 4027, 4028, 4029, 4030, 4031, 4032, 4033, 4034, 4035, 4036,\n",
       "       4037, 4038, 4039, 4040, 4041, 4042, 4043, 4044, 4045, 4046, 4047,\n",
       "       4048, 4049, 4050, 4051, 4052, 4053, 4054, 4055, 4056, 4057, 4058,\n",
       "       4059, 4060, 4061, 4062, 4063, 4064, 4065, 4066, 4067, 4068, 4069,\n",
       "       4070, 4071, 4072, 4073, 4074, 4075, 4076, 4077, 4078, 4079, 4080,\n",
       "       4081, 4082, 4083, 4084, 4085, 4086, 4087, 4088, 4089, 4090, 4091,\n",
       "       4092, 4093, 4094, 4095, 4096, 4097, 4098, 4099, 4100, 4101, 4102,\n",
       "       4103, 4104, 4105, 4106, 4107, 4108, 4109, 4110, 4111, 4112, 4113,\n",
       "       4114, 4115, 4116, 4117, 4118, 4119, 4120, 4121, 4122, 4123, 4124,\n",
       "       4125, 4126, 4127, 4128, 4129, 4130, 4131, 4132, 4133, 4134, 4135,\n",
       "       4136, 4137, 4138, 4139, 4140, 4141, 4142, 4143, 4144, 4145, 4146,\n",
       "       4147, 4148, 4149, 4150, 4151, 4152, 4153, 4154, 4155, 4156, 4157,\n",
       "       4158, 4159, 4160, 4161, 4162, 4163, 4164, 4165, 4166, 4167, 4168,\n",
       "       4169, 4170, 4171, 4172, 4173, 4174, 4175, 4176, 4177, 4178, 4179,\n",
       "       4180, 4181, 4182, 4183, 4184, 4185, 4186, 4187, 4188, 4189, 4190,\n",
       "       4191, 4192, 4193, 4194, 4195, 4196, 4197, 4198, 4199, 4200, 4201,\n",
       "       4202, 4203, 4204, 4205, 4206, 4207, 4208, 4209, 4210, 4211, 4212,\n",
       "       4213, 4214, 4215, 4216, 4217, 4218, 4219, 4220, 4221, 4222, 4223,\n",
       "       4224, 4225, 4226, 4227, 4228, 4229, 4230, 4231, 4232, 4233, 4234,\n",
       "       4235, 4236, 4237, 4238, 4239, 4240, 4241, 4242, 4243, 4244, 4245,\n",
       "       4246, 4247, 4248, 4249, 4250, 4251, 4252, 4253, 4254, 4255, 4256,\n",
       "       4257, 4258, 4259, 4260, 4261, 4262, 4263, 4264, 4265, 4266, 4267,\n",
       "       4268, 4269, 4270, 4271, 4272, 4273, 4274, 4275, 4276, 4277, 4278,\n",
       "       4279, 4280, 4281, 4282, 4283, 4284, 4285, 4286, 4287, 4288, 4289,\n",
       "       4290, 4291, 4292, 4293, 4294, 4295, 4296, 4297, 4298, 4299, 4300,\n",
       "       4301, 4302, 4303, 4304, 4305, 4306, 4307, 4308, 4309, 4310, 4311,\n",
       "       4312, 4313, 4314, 4315, 4316, 4317, 4318, 4319, 4320, 4321, 4322,\n",
       "       4323, 4324, 4325, 4326, 4327, 4328, 4329, 4330, 4331, 4332, 4333,\n",
       "       4334, 4335, 4336, 4337, 4338, 4339, 4340, 4341, 4342, 4343, 4344,\n",
       "       4345, 4346, 4347, 4348, 4349, 4350, 4351, 4352, 4353, 4354, 4355,\n",
       "       4356, 4357, 4358, 4359, 4360, 4361, 4362, 4363, 4364, 4365, 4366,\n",
       "       4367, 4368, 4369, 4370, 4371, 4372, 4373, 4374, 4375, 4376, 4377,\n",
       "       4378, 4379, 4380, 4381, 4382, 4383, 4384, 4385, 4386, 4387, 4388,\n",
       "       4389, 4390, 4391, 4392, 4393, 4394, 4395, 4396, 4397, 4398, 4399,\n",
       "       4400, 4401, 4402, 4403, 4404, 4405, 4406, 4407, 4408, 4409, 4410,\n",
       "       4411, 4412, 4413, 4414, 4415, 4416, 4417, 4418, 4419, 4420, 4421,\n",
       "       4422, 4423, 4424, 4425, 4426, 4427, 4428, 4429, 4430, 4431, 4432,\n",
       "       4433, 4434, 4435, 4436, 4437, 4438, 4439, 4440, 4441, 4442, 4443,\n",
       "       4444, 4445, 4446, 4447, 4448, 4449, 4450, 4451, 4452, 4453, 4454,\n",
       "       4455, 4456, 4457, 4458, 4459, 4460, 4461, 4462, 4463, 4464, 4465,\n",
       "       4466, 4467, 4468, 4469, 4470, 4471, 4472, 4473, 4474, 4475, 4476,\n",
       "       4477, 4478, 4479, 4480, 4481, 4482, 4483, 4484, 4485, 4486, 4487,\n",
       "       4488, 4489, 4490, 4491, 4492, 4493, 4494, 4495, 4496, 4497, 4498,\n",
       "       4499, 4500, 4501, 4502, 4503, 4504, 4505, 4506, 4507, 4508, 4509,\n",
       "       4510, 4511, 4512, 4513, 4514, 4515, 4516, 4517, 4518, 4519, 4520,\n",
       "       4521, 4522, 4523, 4524, 4525, 4526, 4527, 4528, 4529, 4530, 4531,\n",
       "       4532, 4533, 4534, 4535, 4536, 4537, 4538, 4539, 4540, 4541, 4542,\n",
       "       4543, 4544, 4545, 4546, 4547, 4548, 4549, 4550, 4551, 4552, 4553,\n",
       "       4554, 4555, 4556, 4557, 4558, 4559, 4560, 4561, 4562, 4563, 4564,\n",
       "       4565, 4566, 4567, 4568, 4569, 4570, 4571, 4572, 4573, 4574, 4575,\n",
       "       4576, 4577, 4578, 4579, 4580, 4581, 4582, 4583, 4584, 4585, 4586,\n",
       "       4587, 4588, 4589, 4590, 4591, 4592, 4593, 4594, 4595, 4596, 4597,\n",
       "       4598, 4599, 4600, 4601, 4602, 4603, 4604, 4605, 4606, 4607, 4608,\n",
       "       4609, 4610, 4611, 4612, 4613, 4614, 4615, 4616, 4617, 4618, 4619,\n",
       "       4620, 4621, 4622, 4623, 4624, 4625, 4626, 4627, 4628, 4629, 4630,\n",
       "       4631, 4632, 4633, 4634, 4635, 4636, 4637, 4638, 4639, 4640, 4641,\n",
       "       4642, 4643, 4644, 4645, 4646, 4647, 4648, 4649, 4650, 4651, 4652,\n",
       "       4653, 4654, 4655, 4656, 4657, 4658, 4659, 4660, 4661, 4662, 4663,\n",
       "       4664, 4665, 4666, 4667, 4668, 4669, 4670, 4671, 4672, 4673, 4674,\n",
       "       4675, 4676, 4677, 4678, 4679, 4680, 4681, 4682, 4683, 4684, 4685,\n",
       "       4686, 4687, 4688, 4689, 4690, 4691, 4692, 4693, 4694, 4695, 4696,\n",
       "       4697, 4698, 4699, 4700, 4701, 4702, 4703, 4704, 4705, 4706, 4707,\n",
       "       4708, 4709, 4710, 4711, 4712, 4713, 4714, 4715, 4716, 4717, 4718,\n",
       "       4719, 4720, 4721, 4722, 4723, 4724, 4725, 4726, 4727, 4728, 4729,\n",
       "       4730, 4731, 4732, 4733, 4734, 4735, 4736, 4737, 4738, 4739, 4740,\n",
       "       4741, 4742, 4743, 4744, 4745, 4746, 4747, 4748, 4749, 4750, 4751,\n",
       "       4752, 4753, 4754, 4755, 4756, 4757, 4758, 4759, 4760, 4761, 4762,\n",
       "       4763, 4764, 4765, 4766, 4767, 4768, 4769, 4770, 4771, 4772, 4773,\n",
       "       4774, 4775, 4776, 4777, 4778, 4779, 4780, 4781, 4782, 4783, 4784,\n",
       "       4785, 4786, 4787, 4788, 4789, 4790, 4791, 4792, 4793, 4794, 4795,\n",
       "       4796, 4797, 4798, 4799, 4800, 4801, 4802, 4803, 4804, 4805, 4806,\n",
       "       4807, 4808, 4809, 4810, 4811, 4812, 4813, 4814, 4815, 4816, 4817,\n",
       "       4818, 4819, 4820, 4821, 4822, 4823, 4824, 4825, 4826, 4827, 4828,\n",
       "       4829, 4830, 4831, 4832, 4833, 4834, 4835, 4836, 4837, 4838, 4839,\n",
       "       4840, 4841, 4842, 4843, 4844, 4845, 4846, 4847, 4848, 4849, 4850,\n",
       "       4851, 4852, 4853, 4854, 4855, 4856, 4857, 4858, 4859, 4860, 4861,\n",
       "       4862, 4863, 4864, 4865, 4866, 4867, 4868, 4869, 4870, 4871, 4872,\n",
       "       4873, 4874, 4875, 4876, 4877, 4878, 4879, 4880, 4881, 4882, 4883,\n",
       "       4884, 4885, 4886, 4887, 4888, 4889, 4890, 4891, 4892, 4893, 4894,\n",
       "       4895, 4896, 4897, 4898, 4899, 4900, 4901, 4902, 4903, 4904, 4905,\n",
       "       4906, 4907, 4908, 4909, 4910, 4911, 4912, 4913, 4914, 4915, 4916,\n",
       "       4917, 4918, 4919, 4920, 4921, 4922, 4923, 4924, 4925, 4926, 4927,\n",
       "       4928, 4929, 4930, 4931, 4932, 4933, 4934, 4935, 4936, 4937, 4938,\n",
       "       4939, 4940, 4941, 4942, 4943, 4944, 4945, 4946, 4947, 4948, 4949,\n",
       "       4950, 4951, 4952, 4953, 4954, 4955, 4956, 4957, 4958, 4959, 4960,\n",
       "       4961, 4962, 4963, 4964, 4965, 4966, 4967, 4968, 4969, 4970, 4971,\n",
       "       4972, 4973, 4974, 4975, 4976, 4977, 4978, 4979, 4980, 4981, 4982,\n",
       "       4983, 4984, 4985, 4986, 4987, 4988, 4989, 4990, 4991, 4992, 4993,\n",
       "       4994, 4995, 4996, 4997, 4998, 4999])"
      ]
     },
     "execution_count": 85,
     "metadata": {},
     "output_type": "execute_result"
    }
   ],
   "source": [
    "np.arange(5000)"
   ]
  },
  {
   "cell_type": "code",
   "execution_count": 86,
   "id": "e55f7a7b",
   "metadata": {},
   "outputs": [],
   "source": [
    "np.set_printoptions(threshold=3)"
   ]
  },
  {
   "cell_type": "code",
   "execution_count": null,
   "id": "34d5dc51",
   "metadata": {},
   "outputs": [],
   "source": []
  }
 ],
 "metadata": {
  "kernelspec": {
   "display_name": "Python 3.10.4 64-bit",
   "language": "python",
   "name": "python3"
  },
  "language_info": {
   "codemirror_mode": {
    "name": "ipython",
    "version": 3
   },
   "file_extension": ".py",
   "mimetype": "text/x-python",
   "name": "python",
   "nbconvert_exporter": "python",
   "pygments_lexer": "ipython3",
   "version": "3.10.4"
  },
  "vscode": {
   "interpreter": {
    "hash": "a9cff5a362bc38ef45d817ae74b1af54d6a076e3d773891282bce078b815ba34"
   }
  }
 },
 "nbformat": 4,
 "nbformat_minor": 5
}
